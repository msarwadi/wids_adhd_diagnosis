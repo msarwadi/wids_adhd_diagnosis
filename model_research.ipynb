{
  "cells": [
    {
      "cell_type": "code",
      "execution_count": 11,
      "metadata": {
        "id": "AbwDoA6bFu2h"
      },
      "outputs": [],
      "source": [
        "import os\n",
        "import pandas as pd\n",
        "import numpy as np"
      ]
    },
    {
      "cell_type": "markdown",
      "metadata": {
        "id": "9pV1dG3cHpN6"
      },
      "source": [
        "## TRAIN\n"
      ]
    },
    {
      "cell_type": "code",
      "execution_count": 4,
      "metadata": {
        "id": "GjwfDFF8Gw8D"
      },
      "outputs": [],
      "source": [
        "train_cat_meta = pd.read_excel('wids_datathon_2025/TRAIN/TRAIN_CATEGORICAL_METADATA.xlsx')\n",
        "train_func_connectome = pd.read_csv('wids_datathon_2025/TRAIN/TRAIN_FUNCTIONAL_CONNECTOME_MATRICES.csv')\n",
        "train_quant = pd.read_excel('wids_datathon_2025/TRAIN/TRAIN_QUANTITATIVE_METADATA.xlsx')\n",
        "train_solution = pd.read_excel('wids_datathon_2025/TRAIN/TRAINING_SOLUTIONS.xlsx')"
      ]
    },
    {
      "cell_type": "code",
      "execution_count": 5,
      "metadata": {
        "id": "t8_WwQB788-B"
      },
      "outputs": [],
      "source": [
        "test_cat = pd.read_excel('wids_datathon_2025/TEST/TEST_CATEGORICAL.xlsx')\n",
        "test_func_connectome = pd.read_csv('wids_datathon_2025/TEST/TEST_FUNCTIONAL_CONNECTOME_MATRICES.csv')\n",
        "test_quant = pd.read_excel('wids_datathon_2025/TEST/TEST_QUANTITATIVE_METADATA.xlsx')"
      ]
    },
    {
      "cell_type": "code",
      "execution_count": 6,
      "metadata": {
        "colab": {
          "base_uri": "https://localhost:8080/"
        },
        "id": "LVhJUBIMImiV",
        "outputId": "be68c490-711f-4d3a-acef-d88f64c06855"
      },
      "outputs": [
        {
          "name": "stdout",
          "output_type": "stream",
          "text": [
            "TRAIN: Category Metadata:(1213, 10)\n",
            "TRAIN: Functional Connectome:(1213, 19901)\n",
            "TRAIN: Quantitative data: (1213, 19)\n",
            "TRAIN: Solution: (1213, 3)\n",
            "\n",
            "TEST: Category Metadata:(304, 10)\n",
            "TEST: Functional Connectome:(304, 19901)\n",
            "TEST: Quantitative data: (304, 19)\n"
          ]
        }
      ],
      "source": [
        "print(f'TRAIN: Category Metadata:{train_cat_meta.shape}')\n",
        "print(f'TRAIN: Functional Connectome:{train_func_connectome.shape}')\n",
        "print(f'TRAIN: Quantitative data: {train_quant.shape}')\n",
        "print(f'TRAIN: Solution: {train_solution.shape}\\n')\n",
        "\n",
        "print(f'TEST: Category Metadata:{test_cat.shape}')\n",
        "print(f'TEST: Functional Connectome:{test_func_connectome.shape}')\n",
        "print(f'TEST: Quantitative data: {test_quant.shape}')"
      ]
    },
    {
      "cell_type": "markdown",
      "metadata": {
        "id": "eQ9Nu0HaJF0c"
      },
      "source": [
        "# Cat Meta R\n"
      ]
    },
    {
      "cell_type": "code",
      "execution_count": 7,
      "metadata": {
        "colab": {
          "base_uri": "https://localhost:8080/",
          "height": 207
        },
        "id": "dkywvapdH8J7",
        "outputId": "8f7284f9-cbcb-4974-a1ac-392a99e99944"
      },
      "outputs": [
        {
          "data": {
            "text/html": [
              "<div>\n",
              "<style scoped>\n",
              "    .dataframe tbody tr th:only-of-type {\n",
              "        vertical-align: middle;\n",
              "    }\n",
              "\n",
              "    .dataframe tbody tr th {\n",
              "        vertical-align: top;\n",
              "    }\n",
              "\n",
              "    .dataframe thead th {\n",
              "        text-align: right;\n",
              "    }\n",
              "</style>\n",
              "<table border=\"1\" class=\"dataframe\">\n",
              "  <thead>\n",
              "    <tr style=\"text-align: right;\">\n",
              "      <th></th>\n",
              "      <th>participant_id</th>\n",
              "      <th>Basic_Demos_Enroll_Year</th>\n",
              "      <th>Basic_Demos_Study_Site</th>\n",
              "      <th>PreInt_Demos_Fam_Child_Ethnicity</th>\n",
              "      <th>PreInt_Demos_Fam_Child_Race</th>\n",
              "      <th>MRI_Track_Scan_Location</th>\n",
              "      <th>Barratt_Barratt_P1_Edu</th>\n",
              "      <th>Barratt_Barratt_P1_Occ</th>\n",
              "      <th>Barratt_Barratt_P2_Edu</th>\n",
              "      <th>Barratt_Barratt_P2_Occ</th>\n",
              "    </tr>\n",
              "  </thead>\n",
              "  <tbody>\n",
              "    <tr>\n",
              "      <th>0</th>\n",
              "      <td>UmrK0vMLopoR</td>\n",
              "      <td>2016</td>\n",
              "      <td>1</td>\n",
              "      <td>0.0</td>\n",
              "      <td>0</td>\n",
              "      <td>1</td>\n",
              "      <td>21</td>\n",
              "      <td>45</td>\n",
              "      <td>21</td>\n",
              "      <td>45</td>\n",
              "    </tr>\n",
              "    <tr>\n",
              "      <th>1</th>\n",
              "      <td>CPaeQkhcjg7d</td>\n",
              "      <td>2019</td>\n",
              "      <td>3</td>\n",
              "      <td>1.0</td>\n",
              "      <td>2</td>\n",
              "      <td>3</td>\n",
              "      <td>15</td>\n",
              "      <td>15</td>\n",
              "      <td>0</td>\n",
              "      <td>0</td>\n",
              "    </tr>\n",
              "    <tr>\n",
              "      <th>2</th>\n",
              "      <td>Nb4EetVPm3gs</td>\n",
              "      <td>2016</td>\n",
              "      <td>1</td>\n",
              "      <td>1.0</td>\n",
              "      <td>8</td>\n",
              "      <td>1</td>\n",
              "      <td>18</td>\n",
              "      <td>40</td>\n",
              "      <td>0</td>\n",
              "      <td>0</td>\n",
              "    </tr>\n",
              "    <tr>\n",
              "      <th>3</th>\n",
              "      <td>p4vPhVu91o4b</td>\n",
              "      <td>2018</td>\n",
              "      <td>3</td>\n",
              "      <td>0.0</td>\n",
              "      <td>8</td>\n",
              "      <td>3</td>\n",
              "      <td>15</td>\n",
              "      <td>30</td>\n",
              "      <td>18</td>\n",
              "      <td>0</td>\n",
              "    </tr>\n",
              "    <tr>\n",
              "      <th>4</th>\n",
              "      <td>M09PXs7arQ5E</td>\n",
              "      <td>2019</td>\n",
              "      <td>3</td>\n",
              "      <td>0.0</td>\n",
              "      <td>1</td>\n",
              "      <td>3</td>\n",
              "      <td>15</td>\n",
              "      <td>20</td>\n",
              "      <td>0</td>\n",
              "      <td>0</td>\n",
              "    </tr>\n",
              "  </tbody>\n",
              "</table>\n",
              "</div>"
            ],
            "text/plain": [
              "  participant_id  Basic_Demos_Enroll_Year  Basic_Demos_Study_Site  \\\n",
              "0   UmrK0vMLopoR                     2016                       1   \n",
              "1   CPaeQkhcjg7d                     2019                       3   \n",
              "2   Nb4EetVPm3gs                     2016                       1   \n",
              "3   p4vPhVu91o4b                     2018                       3   \n",
              "4   M09PXs7arQ5E                     2019                       3   \n",
              "\n",
              "   PreInt_Demos_Fam_Child_Ethnicity  PreInt_Demos_Fam_Child_Race  \\\n",
              "0                               0.0                            0   \n",
              "1                               1.0                            2   \n",
              "2                               1.0                            8   \n",
              "3                               0.0                            8   \n",
              "4                               0.0                            1   \n",
              "\n",
              "   MRI_Track_Scan_Location  Barratt_Barratt_P1_Edu  Barratt_Barratt_P1_Occ  \\\n",
              "0                        1                      21                      45   \n",
              "1                        3                      15                      15   \n",
              "2                        1                      18                      40   \n",
              "3                        3                      15                      30   \n",
              "4                        3                      15                      20   \n",
              "\n",
              "   Barratt_Barratt_P2_Edu  Barratt_Barratt_P2_Occ  \n",
              "0                      21                      45  \n",
              "1                       0                       0  \n",
              "2                       0                       0  \n",
              "3                      18                       0  \n",
              "4                       0                       0  "
            ]
          },
          "execution_count": 7,
          "metadata": {},
          "output_type": "execute_result"
        }
      ],
      "source": [
        "train_cat_meta.head()"
      ]
    },
    {
      "cell_type": "markdown",
      "metadata": {
        "id": "M3g9vUu0ISXM"
      },
      "source": [
        "# Functional Connectome R"
      ]
    },
    {
      "cell_type": "code",
      "execution_count": 8,
      "metadata": {
        "colab": {
          "base_uri": "https://localhost:8080/",
          "height": 393
        },
        "id": "MdL4uQFaIK8B",
        "outputId": "c002f11d-7bdb-46ee-a8be-94197566364d"
      },
      "outputs": [
        {
          "data": {
            "text/html": [
              "<div>\n",
              "<style scoped>\n",
              "    .dataframe tbody tr th:only-of-type {\n",
              "        vertical-align: middle;\n",
              "    }\n",
              "\n",
              "    .dataframe tbody tr th {\n",
              "        vertical-align: top;\n",
              "    }\n",
              "\n",
              "    .dataframe thead th {\n",
              "        text-align: right;\n",
              "    }\n",
              "</style>\n",
              "<table border=\"1\" class=\"dataframe\">\n",
              "  <thead>\n",
              "    <tr style=\"text-align: right;\">\n",
              "      <th></th>\n",
              "      <th>participant_id</th>\n",
              "      <th>0throw_1thcolumn</th>\n",
              "      <th>0throw_2thcolumn</th>\n",
              "      <th>0throw_3thcolumn</th>\n",
              "      <th>0throw_4thcolumn</th>\n",
              "      <th>0throw_5thcolumn</th>\n",
              "      <th>0throw_6thcolumn</th>\n",
              "      <th>0throw_7thcolumn</th>\n",
              "      <th>0throw_8thcolumn</th>\n",
              "      <th>0throw_9thcolumn</th>\n",
              "      <th>...</th>\n",
              "      <th>195throw_196thcolumn</th>\n",
              "      <th>195throw_197thcolumn</th>\n",
              "      <th>195throw_198thcolumn</th>\n",
              "      <th>195throw_199thcolumn</th>\n",
              "      <th>196throw_197thcolumn</th>\n",
              "      <th>196throw_198thcolumn</th>\n",
              "      <th>196throw_199thcolumn</th>\n",
              "      <th>197throw_198thcolumn</th>\n",
              "      <th>197throw_199thcolumn</th>\n",
              "      <th>198throw_199thcolumn</th>\n",
              "    </tr>\n",
              "  </thead>\n",
              "  <tbody>\n",
              "    <tr>\n",
              "      <th>0</th>\n",
              "      <td>70z8Q2xdTXM3</td>\n",
              "      <td>0.093473</td>\n",
              "      <td>0.146902</td>\n",
              "      <td>0.067893</td>\n",
              "      <td>0.015141</td>\n",
              "      <td>0.070221</td>\n",
              "      <td>0.063997</td>\n",
              "      <td>0.055382</td>\n",
              "      <td>-0.035335</td>\n",
              "      <td>0.068583</td>\n",
              "      <td>...</td>\n",
              "      <td>0.003404</td>\n",
              "      <td>-0.010359</td>\n",
              "      <td>-0.050968</td>\n",
              "      <td>-0.014365</td>\n",
              "      <td>0.128066</td>\n",
              "      <td>0.112646</td>\n",
              "      <td>-0.058980</td>\n",
              "      <td>0.028228</td>\n",
              "      <td>0.133582</td>\n",
              "      <td>0.143372</td>\n",
              "    </tr>\n",
              "    <tr>\n",
              "      <th>1</th>\n",
              "      <td>WHWymJu6zNZi</td>\n",
              "      <td>0.029580</td>\n",
              "      <td>0.179323</td>\n",
              "      <td>0.112933</td>\n",
              "      <td>0.038291</td>\n",
              "      <td>0.104899</td>\n",
              "      <td>0.064250</td>\n",
              "      <td>0.008488</td>\n",
              "      <td>0.077505</td>\n",
              "      <td>-0.004750</td>\n",
              "      <td>...</td>\n",
              "      <td>-0.008409</td>\n",
              "      <td>-0.008479</td>\n",
              "      <td>0.020891</td>\n",
              "      <td>0.017754</td>\n",
              "      <td>0.094040</td>\n",
              "      <td>0.035141</td>\n",
              "      <td>0.032537</td>\n",
              "      <td>0.075007</td>\n",
              "      <td>0.115350</td>\n",
              "      <td>0.138200</td>\n",
              "    </tr>\n",
              "    <tr>\n",
              "      <th>2</th>\n",
              "      <td>4PAQp1M6EyAo</td>\n",
              "      <td>-0.051580</td>\n",
              "      <td>0.139734</td>\n",
              "      <td>0.068295</td>\n",
              "      <td>0.046991</td>\n",
              "      <td>0.111085</td>\n",
              "      <td>0.026978</td>\n",
              "      <td>0.151377</td>\n",
              "      <td>0.021198</td>\n",
              "      <td>0.083721</td>\n",
              "      <td>...</td>\n",
              "      <td>0.053245</td>\n",
              "      <td>-0.028003</td>\n",
              "      <td>0.028773</td>\n",
              "      <td>0.024556</td>\n",
              "      <td>0.166343</td>\n",
              "      <td>0.058925</td>\n",
              "      <td>0.035485</td>\n",
              "      <td>0.063661</td>\n",
              "      <td>0.042862</td>\n",
              "      <td>0.162162</td>\n",
              "    </tr>\n",
              "    <tr>\n",
              "      <th>3</th>\n",
              "      <td>obEacy4Of68I</td>\n",
              "      <td>0.016273</td>\n",
              "      <td>0.204702</td>\n",
              "      <td>0.115980</td>\n",
              "      <td>0.043103</td>\n",
              "      <td>0.056431</td>\n",
              "      <td>0.057615</td>\n",
              "      <td>0.055773</td>\n",
              "      <td>0.075030</td>\n",
              "      <td>0.001033</td>\n",
              "      <td>...</td>\n",
              "      <td>-0.023918</td>\n",
              "      <td>-0.005356</td>\n",
              "      <td>0.018607</td>\n",
              "      <td>0.016193</td>\n",
              "      <td>0.072955</td>\n",
              "      <td>0.130135</td>\n",
              "      <td>0.056120</td>\n",
              "      <td>0.084784</td>\n",
              "      <td>0.114148</td>\n",
              "      <td>0.190584</td>\n",
              "    </tr>\n",
              "    <tr>\n",
              "      <th>4</th>\n",
              "      <td>s7WzzDcmDOhF</td>\n",
              "      <td>0.065771</td>\n",
              "      <td>0.098714</td>\n",
              "      <td>0.097604</td>\n",
              "      <td>0.112988</td>\n",
              "      <td>0.071139</td>\n",
              "      <td>0.085607</td>\n",
              "      <td>0.019392</td>\n",
              "      <td>-0.036403</td>\n",
              "      <td>-0.020375</td>\n",
              "      <td>...</td>\n",
              "      <td>0.066439</td>\n",
              "      <td>-0.076680</td>\n",
              "      <td>-0.047530</td>\n",
              "      <td>-0.031443</td>\n",
              "      <td>0.221213</td>\n",
              "      <td>0.007343</td>\n",
              "      <td>0.005763</td>\n",
              "      <td>0.083820</td>\n",
              "      <td>0.079582</td>\n",
              "      <td>0.067269</td>\n",
              "    </tr>\n",
              "    <tr>\n",
              "      <th>1208</th>\n",
              "      <td>kTurROKp5YHQ</td>\n",
              "      <td>0.022932</td>\n",
              "      <td>0.024830</td>\n",
              "      <td>-0.006514</td>\n",
              "      <td>0.021070</td>\n",
              "      <td>0.093365</td>\n",
              "      <td>0.083369</td>\n",
              "      <td>0.010991</td>\n",
              "      <td>0.035838</td>\n",
              "      <td>0.023909</td>\n",
              "      <td>...</td>\n",
              "      <td>0.060060</td>\n",
              "      <td>-0.003911</td>\n",
              "      <td>-0.016413</td>\n",
              "      <td>0.089110</td>\n",
              "      <td>0.118587</td>\n",
              "      <td>-0.060868</td>\n",
              "      <td>0.124443</td>\n",
              "      <td>0.028510</td>\n",
              "      <td>0.113064</td>\n",
              "      <td>0.103809</td>\n",
              "    </tr>\n",
              "    <tr>\n",
              "      <th>1209</th>\n",
              "      <td>FCRyMz9O6yCq</td>\n",
              "      <td>0.047078</td>\n",
              "      <td>0.135955</td>\n",
              "      <td>0.144366</td>\n",
              "      <td>0.054938</td>\n",
              "      <td>0.065760</td>\n",
              "      <td>0.113550</td>\n",
              "      <td>0.032621</td>\n",
              "      <td>0.025349</td>\n",
              "      <td>0.011848</td>\n",
              "      <td>...</td>\n",
              "      <td>0.021318</td>\n",
              "      <td>0.020141</td>\n",
              "      <td>-0.020920</td>\n",
              "      <td>0.030450</td>\n",
              "      <td>0.190241</td>\n",
              "      <td>0.026461</td>\n",
              "      <td>-0.011593</td>\n",
              "      <td>0.139483</td>\n",
              "      <td>-0.064480</td>\n",
              "      <td>0.070354</td>\n",
              "    </tr>\n",
              "    <tr>\n",
              "      <th>1210</th>\n",
              "      <td>vm2P1hmAY1hl</td>\n",
              "      <td>0.094541</td>\n",
              "      <td>0.145280</td>\n",
              "      <td>0.061964</td>\n",
              "      <td>0.030562</td>\n",
              "      <td>0.078278</td>\n",
              "      <td>0.105857</td>\n",
              "      <td>0.043984</td>\n",
              "      <td>0.039145</td>\n",
              "      <td>0.032024</td>\n",
              "      <td>...</td>\n",
              "      <td>-0.052990</td>\n",
              "      <td>-0.002118</td>\n",
              "      <td>-0.038452</td>\n",
              "      <td>0.066608</td>\n",
              "      <td>0.143446</td>\n",
              "      <td>0.051221</td>\n",
              "      <td>0.127495</td>\n",
              "      <td>0.106242</td>\n",
              "      <td>-0.036065</td>\n",
              "      <td>0.151341</td>\n",
              "    </tr>\n",
              "    <tr>\n",
              "      <th>1211</th>\n",
              "      <td>OFxvN8lnw21w</td>\n",
              "      <td>-0.001533</td>\n",
              "      <td>0.128562</td>\n",
              "      <td>0.045000</td>\n",
              "      <td>-0.008742</td>\n",
              "      <td>0.003673</td>\n",
              "      <td>0.086494</td>\n",
              "      <td>0.090101</td>\n",
              "      <td>-0.037449</td>\n",
              "      <td>-0.026334</td>\n",
              "      <td>...</td>\n",
              "      <td>0.024479</td>\n",
              "      <td>-0.036995</td>\n",
              "      <td>-0.061617</td>\n",
              "      <td>-0.001699</td>\n",
              "      <td>0.106568</td>\n",
              "      <td>0.023427</td>\n",
              "      <td>-0.003520</td>\n",
              "      <td>0.174972</td>\n",
              "      <td>0.041198</td>\n",
              "      <td>0.152029</td>\n",
              "    </tr>\n",
              "    <tr>\n",
              "      <th>1212</th>\n",
              "      <td>9gpepMI9sj5q</td>\n",
              "      <td>-0.115224</td>\n",
              "      <td>0.147713</td>\n",
              "      <td>0.083183</td>\n",
              "      <td>0.054649</td>\n",
              "      <td>0.034871</td>\n",
              "      <td>-0.046438</td>\n",
              "      <td>-0.006836</td>\n",
              "      <td>0.058453</td>\n",
              "      <td>0.044953</td>\n",
              "      <td>...</td>\n",
              "      <td>0.063316</td>\n",
              "      <td>-0.001991</td>\n",
              "      <td>0.044733</td>\n",
              "      <td>0.022353</td>\n",
              "      <td>-0.070094</td>\n",
              "      <td>0.046588</td>\n",
              "      <td>-0.036669</td>\n",
              "      <td>0.020141</td>\n",
              "      <td>0.022989</td>\n",
              "      <td>0.191386</td>\n",
              "    </tr>\n",
              "  </tbody>\n",
              "</table>\n",
              "<p>10 rows × 19901 columns</p>\n",
              "</div>"
            ],
            "text/plain": [
              "     participant_id  0throw_1thcolumn  0throw_2thcolumn  0throw_3thcolumn  \\\n",
              "0      70z8Q2xdTXM3          0.093473          0.146902          0.067893   \n",
              "1      WHWymJu6zNZi          0.029580          0.179323          0.112933   \n",
              "2      4PAQp1M6EyAo         -0.051580          0.139734          0.068295   \n",
              "3      obEacy4Of68I          0.016273          0.204702          0.115980   \n",
              "4      s7WzzDcmDOhF          0.065771          0.098714          0.097604   \n",
              "1208   kTurROKp5YHQ          0.022932          0.024830         -0.006514   \n",
              "1209   FCRyMz9O6yCq          0.047078          0.135955          0.144366   \n",
              "1210   vm2P1hmAY1hl          0.094541          0.145280          0.061964   \n",
              "1211   OFxvN8lnw21w         -0.001533          0.128562          0.045000   \n",
              "1212   9gpepMI9sj5q         -0.115224          0.147713          0.083183   \n",
              "\n",
              "      0throw_4thcolumn  0throw_5thcolumn  0throw_6thcolumn  0throw_7thcolumn  \\\n",
              "0             0.015141          0.070221          0.063997          0.055382   \n",
              "1             0.038291          0.104899          0.064250          0.008488   \n",
              "2             0.046991          0.111085          0.026978          0.151377   \n",
              "3             0.043103          0.056431          0.057615          0.055773   \n",
              "4             0.112988          0.071139          0.085607          0.019392   \n",
              "1208          0.021070          0.093365          0.083369          0.010991   \n",
              "1209          0.054938          0.065760          0.113550          0.032621   \n",
              "1210          0.030562          0.078278          0.105857          0.043984   \n",
              "1211         -0.008742          0.003673          0.086494          0.090101   \n",
              "1212          0.054649          0.034871         -0.046438         -0.006836   \n",
              "\n",
              "      0throw_8thcolumn  0throw_9thcolumn  ...  195throw_196thcolumn  \\\n",
              "0            -0.035335          0.068583  ...              0.003404   \n",
              "1             0.077505         -0.004750  ...             -0.008409   \n",
              "2             0.021198          0.083721  ...              0.053245   \n",
              "3             0.075030          0.001033  ...             -0.023918   \n",
              "4            -0.036403         -0.020375  ...              0.066439   \n",
              "1208          0.035838          0.023909  ...              0.060060   \n",
              "1209          0.025349          0.011848  ...              0.021318   \n",
              "1210          0.039145          0.032024  ...             -0.052990   \n",
              "1211         -0.037449         -0.026334  ...              0.024479   \n",
              "1212          0.058453          0.044953  ...              0.063316   \n",
              "\n",
              "      195throw_197thcolumn  195throw_198thcolumn  195throw_199thcolumn  \\\n",
              "0                -0.010359             -0.050968             -0.014365   \n",
              "1                -0.008479              0.020891              0.017754   \n",
              "2                -0.028003              0.028773              0.024556   \n",
              "3                -0.005356              0.018607              0.016193   \n",
              "4                -0.076680             -0.047530             -0.031443   \n",
              "1208             -0.003911             -0.016413              0.089110   \n",
              "1209              0.020141             -0.020920              0.030450   \n",
              "1210             -0.002118             -0.038452              0.066608   \n",
              "1211             -0.036995             -0.061617             -0.001699   \n",
              "1212             -0.001991              0.044733              0.022353   \n",
              "\n",
              "      196throw_197thcolumn  196throw_198thcolumn  196throw_199thcolumn  \\\n",
              "0                 0.128066              0.112646             -0.058980   \n",
              "1                 0.094040              0.035141              0.032537   \n",
              "2                 0.166343              0.058925              0.035485   \n",
              "3                 0.072955              0.130135              0.056120   \n",
              "4                 0.221213              0.007343              0.005763   \n",
              "1208              0.118587             -0.060868              0.124443   \n",
              "1209              0.190241              0.026461             -0.011593   \n",
              "1210              0.143446              0.051221              0.127495   \n",
              "1211              0.106568              0.023427             -0.003520   \n",
              "1212             -0.070094              0.046588             -0.036669   \n",
              "\n",
              "      197throw_198thcolumn  197throw_199thcolumn  198throw_199thcolumn  \n",
              "0                 0.028228              0.133582              0.143372  \n",
              "1                 0.075007              0.115350              0.138200  \n",
              "2                 0.063661              0.042862              0.162162  \n",
              "3                 0.084784              0.114148              0.190584  \n",
              "4                 0.083820              0.079582              0.067269  \n",
              "1208              0.028510              0.113064              0.103809  \n",
              "1209              0.139483             -0.064480              0.070354  \n",
              "1210              0.106242             -0.036065              0.151341  \n",
              "1211              0.174972              0.041198              0.152029  \n",
              "1212              0.020141              0.022989              0.191386  \n",
              "\n",
              "[10 rows x 19901 columns]"
            ]
          },
          "execution_count": 8,
          "metadata": {},
          "output_type": "execute_result"
        }
      ],
      "source": [
        "pd.concat([train_func_connectome.head(5), train_func_connectome.tail(5)])"
      ]
    },
    {
      "cell_type": "markdown",
      "metadata": {
        "id": "pQVqfrrbKLOZ"
      },
      "source": [
        "# Quantitative R"
      ]
    },
    {
      "cell_type": "code",
      "execution_count": 9,
      "metadata": {
        "colab": {
          "base_uri": "https://localhost:8080/",
          "height": 207
        },
        "id": "8Nq9iqjzKNG7",
        "outputId": "97c5e2c6-4bf9-4e4c-875f-d6089471d5c3"
      },
      "outputs": [
        {
          "data": {
            "text/html": [
              "<div>\n",
              "<style scoped>\n",
              "    .dataframe tbody tr th:only-of-type {\n",
              "        vertical-align: middle;\n",
              "    }\n",
              "\n",
              "    .dataframe tbody tr th {\n",
              "        vertical-align: top;\n",
              "    }\n",
              "\n",
              "    .dataframe thead th {\n",
              "        text-align: right;\n",
              "    }\n",
              "</style>\n",
              "<table border=\"1\" class=\"dataframe\">\n",
              "  <thead>\n",
              "    <tr style=\"text-align: right;\">\n",
              "      <th></th>\n",
              "      <th>participant_id</th>\n",
              "      <th>EHQ_EHQ_Total</th>\n",
              "      <th>ColorVision_CV_Score</th>\n",
              "      <th>APQ_P_APQ_P_CP</th>\n",
              "      <th>APQ_P_APQ_P_ID</th>\n",
              "      <th>APQ_P_APQ_P_INV</th>\n",
              "      <th>APQ_P_APQ_P_OPD</th>\n",
              "      <th>APQ_P_APQ_P_PM</th>\n",
              "      <th>APQ_P_APQ_P_PP</th>\n",
              "      <th>SDQ_SDQ_Conduct_Problems</th>\n",
              "      <th>SDQ_SDQ_Difficulties_Total</th>\n",
              "      <th>SDQ_SDQ_Emotional_Problems</th>\n",
              "      <th>SDQ_SDQ_Externalizing</th>\n",
              "      <th>SDQ_SDQ_Generating_Impact</th>\n",
              "      <th>SDQ_SDQ_Hyperactivity</th>\n",
              "      <th>SDQ_SDQ_Internalizing</th>\n",
              "      <th>SDQ_SDQ_Peer_Problems</th>\n",
              "      <th>SDQ_SDQ_Prosocial</th>\n",
              "      <th>MRI_Track_Age_at_Scan</th>\n",
              "    </tr>\n",
              "  </thead>\n",
              "  <tbody>\n",
              "    <tr>\n",
              "      <th>0</th>\n",
              "      <td>UmrK0vMLopoR</td>\n",
              "      <td>40.00</td>\n",
              "      <td>13</td>\n",
              "      <td>3</td>\n",
              "      <td>10</td>\n",
              "      <td>47</td>\n",
              "      <td>13</td>\n",
              "      <td>11</td>\n",
              "      <td>28</td>\n",
              "      <td>0</td>\n",
              "      <td>6</td>\n",
              "      <td>1</td>\n",
              "      <td>5</td>\n",
              "      <td>0</td>\n",
              "      <td>5</td>\n",
              "      <td>1</td>\n",
              "      <td>0</td>\n",
              "      <td>10</td>\n",
              "      <td>NaN</td>\n",
              "    </tr>\n",
              "    <tr>\n",
              "      <th>1</th>\n",
              "      <td>CPaeQkhcjg7d</td>\n",
              "      <td>-94.47</td>\n",
              "      <td>14</td>\n",
              "      <td>3</td>\n",
              "      <td>13</td>\n",
              "      <td>34</td>\n",
              "      <td>18</td>\n",
              "      <td>23</td>\n",
              "      <td>30</td>\n",
              "      <td>0</td>\n",
              "      <td>18</td>\n",
              "      <td>6</td>\n",
              "      <td>8</td>\n",
              "      <td>7</td>\n",
              "      <td>8</td>\n",
              "      <td>10</td>\n",
              "      <td>4</td>\n",
              "      <td>5</td>\n",
              "      <td>NaN</td>\n",
              "    </tr>\n",
              "    <tr>\n",
              "      <th>2</th>\n",
              "      <td>Nb4EetVPm3gs</td>\n",
              "      <td>-46.67</td>\n",
              "      <td>14</td>\n",
              "      <td>4</td>\n",
              "      <td>10</td>\n",
              "      <td>35</td>\n",
              "      <td>16</td>\n",
              "      <td>10</td>\n",
              "      <td>29</td>\n",
              "      <td>1</td>\n",
              "      <td>14</td>\n",
              "      <td>2</td>\n",
              "      <td>8</td>\n",
              "      <td>5</td>\n",
              "      <td>7</td>\n",
              "      <td>6</td>\n",
              "      <td>4</td>\n",
              "      <td>9</td>\n",
              "      <td>8.239904</td>\n",
              "    </tr>\n",
              "    <tr>\n",
              "      <th>3</th>\n",
              "      <td>p4vPhVu91o4b</td>\n",
              "      <td>-26.68</td>\n",
              "      <td>10</td>\n",
              "      <td>5</td>\n",
              "      <td>12</td>\n",
              "      <td>39</td>\n",
              "      <td>19</td>\n",
              "      <td>16</td>\n",
              "      <td>28</td>\n",
              "      <td>6</td>\n",
              "      <td>24</td>\n",
              "      <td>4</td>\n",
              "      <td>16</td>\n",
              "      <td>9</td>\n",
              "      <td>10</td>\n",
              "      <td>8</td>\n",
              "      <td>4</td>\n",
              "      <td>6</td>\n",
              "      <td>NaN</td>\n",
              "    </tr>\n",
              "    <tr>\n",
              "      <th>4</th>\n",
              "      <td>M09PXs7arQ5E</td>\n",
              "      <td>0.00</td>\n",
              "      <td>14</td>\n",
              "      <td>5</td>\n",
              "      <td>15</td>\n",
              "      <td>40</td>\n",
              "      <td>20</td>\n",
              "      <td>24</td>\n",
              "      <td>28</td>\n",
              "      <td>1</td>\n",
              "      <td>18</td>\n",
              "      <td>4</td>\n",
              "      <td>11</td>\n",
              "      <td>4</td>\n",
              "      <td>10</td>\n",
              "      <td>7</td>\n",
              "      <td>3</td>\n",
              "      <td>9</td>\n",
              "      <td>8.940679</td>\n",
              "    </tr>\n",
              "  </tbody>\n",
              "</table>\n",
              "</div>"
            ],
            "text/plain": [
              "  participant_id  EHQ_EHQ_Total  ColorVision_CV_Score  APQ_P_APQ_P_CP  \\\n",
              "0   UmrK0vMLopoR          40.00                    13               3   \n",
              "1   CPaeQkhcjg7d         -94.47                    14               3   \n",
              "2   Nb4EetVPm3gs         -46.67                    14               4   \n",
              "3   p4vPhVu91o4b         -26.68                    10               5   \n",
              "4   M09PXs7arQ5E           0.00                    14               5   \n",
              "\n",
              "   APQ_P_APQ_P_ID  APQ_P_APQ_P_INV  APQ_P_APQ_P_OPD  APQ_P_APQ_P_PM  \\\n",
              "0              10               47               13              11   \n",
              "1              13               34               18              23   \n",
              "2              10               35               16              10   \n",
              "3              12               39               19              16   \n",
              "4              15               40               20              24   \n",
              "\n",
              "   APQ_P_APQ_P_PP  SDQ_SDQ_Conduct_Problems  SDQ_SDQ_Difficulties_Total  \\\n",
              "0              28                         0                           6   \n",
              "1              30                         0                          18   \n",
              "2              29                         1                          14   \n",
              "3              28                         6                          24   \n",
              "4              28                         1                          18   \n",
              "\n",
              "   SDQ_SDQ_Emotional_Problems  SDQ_SDQ_Externalizing  \\\n",
              "0                           1                      5   \n",
              "1                           6                      8   \n",
              "2                           2                      8   \n",
              "3                           4                     16   \n",
              "4                           4                     11   \n",
              "\n",
              "   SDQ_SDQ_Generating_Impact  SDQ_SDQ_Hyperactivity  SDQ_SDQ_Internalizing  \\\n",
              "0                          0                      5                      1   \n",
              "1                          7                      8                     10   \n",
              "2                          5                      7                      6   \n",
              "3                          9                     10                      8   \n",
              "4                          4                     10                      7   \n",
              "\n",
              "   SDQ_SDQ_Peer_Problems  SDQ_SDQ_Prosocial  MRI_Track_Age_at_Scan  \n",
              "0                      0                 10                    NaN  \n",
              "1                      4                  5                    NaN  \n",
              "2                      4                  9               8.239904  \n",
              "3                      4                  6                    NaN  \n",
              "4                      3                  9               8.940679  "
            ]
          },
          "execution_count": 9,
          "metadata": {},
          "output_type": "execute_result"
        }
      ],
      "source": [
        "train_quant.head()"
      ]
    },
    {
      "cell_type": "markdown",
      "metadata": {
        "id": "7w7KmTUuKgza"
      },
      "source": [
        "# Example Training Solution"
      ]
    },
    {
      "cell_type": "code",
      "execution_count": 10,
      "metadata": {
        "colab": {
          "base_uri": "https://localhost:8080/",
          "height": 207
        },
        "id": "-Gyl45mhKO8O",
        "outputId": "2e3651c4-0450-4211-cd86-ed99654b229e"
      },
      "outputs": [
        {
          "data": {
            "text/html": [
              "<div>\n",
              "<style scoped>\n",
              "    .dataframe tbody tr th:only-of-type {\n",
              "        vertical-align: middle;\n",
              "    }\n",
              "\n",
              "    .dataframe tbody tr th {\n",
              "        vertical-align: top;\n",
              "    }\n",
              "\n",
              "    .dataframe thead th {\n",
              "        text-align: right;\n",
              "    }\n",
              "</style>\n",
              "<table border=\"1\" class=\"dataframe\">\n",
              "  <thead>\n",
              "    <tr style=\"text-align: right;\">\n",
              "      <th></th>\n",
              "      <th>participant_id</th>\n",
              "      <th>ADHD_Outcome</th>\n",
              "      <th>Sex_F</th>\n",
              "    </tr>\n",
              "  </thead>\n",
              "  <tbody>\n",
              "    <tr>\n",
              "      <th>0</th>\n",
              "      <td>UmrK0vMLopoR</td>\n",
              "      <td>1</td>\n",
              "      <td>1</td>\n",
              "    </tr>\n",
              "    <tr>\n",
              "      <th>1</th>\n",
              "      <td>CPaeQkhcjg7d</td>\n",
              "      <td>1</td>\n",
              "      <td>0</td>\n",
              "    </tr>\n",
              "    <tr>\n",
              "      <th>2</th>\n",
              "      <td>Nb4EetVPm3gs</td>\n",
              "      <td>1</td>\n",
              "      <td>0</td>\n",
              "    </tr>\n",
              "    <tr>\n",
              "      <th>3</th>\n",
              "      <td>p4vPhVu91o4b</td>\n",
              "      <td>1</td>\n",
              "      <td>1</td>\n",
              "    </tr>\n",
              "    <tr>\n",
              "      <th>4</th>\n",
              "      <td>M09PXs7arQ5E</td>\n",
              "      <td>1</td>\n",
              "      <td>1</td>\n",
              "    </tr>\n",
              "  </tbody>\n",
              "</table>\n",
              "</div>"
            ],
            "text/plain": [
              "  participant_id  ADHD_Outcome  Sex_F\n",
              "0   UmrK0vMLopoR             1      1\n",
              "1   CPaeQkhcjg7d             1      0\n",
              "2   Nb4EetVPm3gs             1      0\n",
              "3   p4vPhVu91o4b             1      1\n",
              "4   M09PXs7arQ5E             1      1"
            ]
          },
          "execution_count": 10,
          "metadata": {},
          "output_type": "execute_result"
        }
      ],
      "source": [
        "train_solution.head()"
      ]
    },
    {
      "cell_type": "markdown",
      "metadata": {
        "id": "hjOk6-WSwVwU"
      },
      "source": [
        "# Check NUll\n"
      ]
    },
    {
      "cell_type": "code",
      "execution_count": 12,
      "metadata": {
        "colab": {
          "base_uri": "https://localhost:8080/",
          "height": 433
        },
        "id": "Mv-zu_ZnKfei",
        "outputId": "00b1d4c5-31df-487e-9739-73fceb4896f1"
      },
      "outputs": [
        {
          "name": "stderr",
          "output_type": "stream",
          "text": [
            "/opt/miniconda3/lib/python3.12/site-packages/numpy/_core/fromnumeric.py:84: FutureWarning: The behavior of DataFrame.sum with axis=None is deprecated, in a future version this will reduce over both axes and return a scalar. To retain the old behavior, pass axis=0 (or do not pass axis)\n",
            "  return reduction(axis=axis, out=out, **passkwargs)\n"
          ]
        },
        {
          "data": {
            "text/plain": [
              "participant_id                       0\n",
              "Basic_Demos_Enroll_Year              0\n",
              "Basic_Demos_Study_Site               0\n",
              "PreInt_Demos_Fam_Child_Ethnicity    11\n",
              "PreInt_Demos_Fam_Child_Race          0\n",
              "MRI_Track_Scan_Location              0\n",
              "Barratt_Barratt_P1_Edu               0\n",
              "Barratt_Barratt_P1_Occ               0\n",
              "Barratt_Barratt_P2_Edu               0\n",
              "Barratt_Barratt_P2_Occ               0\n",
              "dtype: int64"
            ]
          },
          "execution_count": 12,
          "metadata": {},
          "output_type": "execute_result"
        }
      ],
      "source": [
        "np.sum(train_cat_meta.isna())"
      ]
    },
    {
      "cell_type": "code",
      "execution_count": 13,
      "metadata": {
        "colab": {
          "base_uri": "https://localhost:8080/",
          "height": 494
        },
        "id": "samgqz6WtzoF",
        "outputId": "bdb46ef7-ccb3-44ce-a83a-8b145add9d57"
      },
      "outputs": [
        {
          "data": {
            "text/plain": [
              "participant_id          0\n",
              "0throw_1thcolumn        0\n",
              "0throw_2thcolumn        0\n",
              "0throw_3thcolumn        0\n",
              "0throw_4thcolumn        0\n",
              "                       ..\n",
              "196throw_198thcolumn    0\n",
              "196throw_199thcolumn    0\n",
              "197throw_198thcolumn    0\n",
              "197throw_199thcolumn    0\n",
              "198throw_199thcolumn    0\n",
              "Length: 19901, dtype: int64"
            ]
          },
          "execution_count": 13,
          "metadata": {},
          "output_type": "execute_result"
        }
      ],
      "source": [
        "np.sum(train_func_connectome.isna())"
      ]
    },
    {
      "cell_type": "code",
      "execution_count": 14,
      "metadata": {
        "colab": {
          "base_uri": "https://localhost:8080/",
          "height": 715
        },
        "id": "dGIP0mO8uKug",
        "outputId": "75f8f8c4-49d9-489f-9f3e-65f8a2fa1943"
      },
      "outputs": [
        {
          "name": "stderr",
          "output_type": "stream",
          "text": [
            "/opt/miniconda3/lib/python3.12/site-packages/numpy/_core/fromnumeric.py:84: FutureWarning: The behavior of DataFrame.sum with axis=None is deprecated, in a future version this will reduce over both axes and return a scalar. To retain the old behavior, pass axis=0 (or do not pass axis)\n",
            "  return reduction(axis=axis, out=out, **passkwargs)\n"
          ]
        },
        {
          "data": {
            "text/plain": [
              "participant_id                  0\n",
              "EHQ_EHQ_Total                   0\n",
              "ColorVision_CV_Score            0\n",
              "APQ_P_APQ_P_CP                  0\n",
              "APQ_P_APQ_P_ID                  0\n",
              "APQ_P_APQ_P_INV                 0\n",
              "APQ_P_APQ_P_OPD                 0\n",
              "APQ_P_APQ_P_PM                  0\n",
              "APQ_P_APQ_P_PP                  0\n",
              "SDQ_SDQ_Conduct_Problems        0\n",
              "SDQ_SDQ_Difficulties_Total      0\n",
              "SDQ_SDQ_Emotional_Problems      0\n",
              "SDQ_SDQ_Externalizing           0\n",
              "SDQ_SDQ_Generating_Impact       0\n",
              "SDQ_SDQ_Hyperactivity           0\n",
              "SDQ_SDQ_Internalizing           0\n",
              "SDQ_SDQ_Peer_Problems           0\n",
              "SDQ_SDQ_Prosocial               0\n",
              "MRI_Track_Age_at_Scan         360\n",
              "dtype: int64"
            ]
          },
          "execution_count": 14,
          "metadata": {},
          "output_type": "execute_result"
        }
      ],
      "source": [
        "np.sum(train_quant.isna())"
      ]
    },
    {
      "cell_type": "code",
      "execution_count": 16,
      "metadata": {
        "id": "k0BcB8KFudAt"
      },
      "outputs": [],
      "source": [
        "from sklearn.impute import SimpleImputer\n",
        "\n",
        "cat_imputer = SimpleImputer(strategy='most_frequent') #column is cat data\n",
        "train_cat_meta[['PreInt_Demos_Fam_Child_Ethnicity']] = cat_imputer.fit_transform(train_cat_meta[['PreInt_Demos_Fam_Child_Ethnicity']])"
      ]
    },
    {
      "cell_type": "code",
      "execution_count": 17,
      "metadata": {
        "colab": {
          "base_uri": "https://localhost:8080/",
          "height": 433
        },
        "id": "Ia3dq2UDvqb8",
        "outputId": "5e0824e8-84b4-4ebd-e821-3e889d3e98c7"
      },
      "outputs": [
        {
          "name": "stderr",
          "output_type": "stream",
          "text": [
            "/opt/miniconda3/lib/python3.12/site-packages/numpy/_core/fromnumeric.py:84: FutureWarning: The behavior of DataFrame.sum with axis=None is deprecated, in a future version this will reduce over both axes and return a scalar. To retain the old behavior, pass axis=0 (or do not pass axis)\n",
            "  return reduction(axis=axis, out=out, **passkwargs)\n"
          ]
        },
        {
          "data": {
            "text/plain": [
              "participant_id                      0\n",
              "Basic_Demos_Enroll_Year             0\n",
              "Basic_Demos_Study_Site              0\n",
              "PreInt_Demos_Fam_Child_Ethnicity    0\n",
              "PreInt_Demos_Fam_Child_Race         0\n",
              "MRI_Track_Scan_Location             0\n",
              "Barratt_Barratt_P1_Edu              0\n",
              "Barratt_Barratt_P1_Occ              0\n",
              "Barratt_Barratt_P2_Edu              0\n",
              "Barratt_Barratt_P2_Occ              0\n",
              "dtype: int64"
            ]
          },
          "execution_count": 17,
          "metadata": {},
          "output_type": "execute_result"
        }
      ],
      "source": [
        "np.sum(train_cat_meta.isna())"
      ]
    },
    {
      "cell_type": "code",
      "execution_count": 18,
      "metadata": {
        "id": "Lnw6PUHryYqX"
      },
      "outputs": [],
      "source": [
        "quant_imputer = SimpleImputer(strategy='median') #age col\n",
        "train_quant[['MRI_Track_Age_at_Scan']] = quant_imputer.fit_transform(train_quant[['MRI_Track_Age_at_Scan']])"
      ]
    },
    {
      "cell_type": "code",
      "execution_count": 19,
      "metadata": {
        "colab": {
          "base_uri": "https://localhost:8080/",
          "height": 715
        },
        "id": "GBiBN9CIyi1O",
        "outputId": "54048b78-3bee-4df0-e871-ad1c907157c6"
      },
      "outputs": [
        {
          "name": "stderr",
          "output_type": "stream",
          "text": [
            "/opt/miniconda3/lib/python3.12/site-packages/numpy/_core/fromnumeric.py:84: FutureWarning: The behavior of DataFrame.sum with axis=None is deprecated, in a future version this will reduce over both axes and return a scalar. To retain the old behavior, pass axis=0 (or do not pass axis)\n",
            "  return reduction(axis=axis, out=out, **passkwargs)\n"
          ]
        },
        {
          "data": {
            "text/plain": [
              "participant_id                0\n",
              "EHQ_EHQ_Total                 0\n",
              "ColorVision_CV_Score          0\n",
              "APQ_P_APQ_P_CP                0\n",
              "APQ_P_APQ_P_ID                0\n",
              "APQ_P_APQ_P_INV               0\n",
              "APQ_P_APQ_P_OPD               0\n",
              "APQ_P_APQ_P_PM                0\n",
              "APQ_P_APQ_P_PP                0\n",
              "SDQ_SDQ_Conduct_Problems      0\n",
              "SDQ_SDQ_Difficulties_Total    0\n",
              "SDQ_SDQ_Emotional_Problems    0\n",
              "SDQ_SDQ_Externalizing         0\n",
              "SDQ_SDQ_Generating_Impact     0\n",
              "SDQ_SDQ_Hyperactivity         0\n",
              "SDQ_SDQ_Internalizing         0\n",
              "SDQ_SDQ_Peer_Problems         0\n",
              "SDQ_SDQ_Prosocial             0\n",
              "MRI_Track_Age_at_Scan         0\n",
              "dtype: int64"
            ]
          },
          "execution_count": 19,
          "metadata": {},
          "output_type": "execute_result"
        }
      ],
      "source": [
        "np.sum(train_quant.isna())"
      ]
    },
    {
      "cell_type": "markdown",
      "metadata": {
        "id": "dmJOk6uozg4I"
      },
      "source": [
        "# Rescaling"
      ]
    },
    {
      "cell_type": "code",
      "execution_count": 20,
      "metadata": {
        "id": "Bl-770-Tyl3q"
      },
      "outputs": [],
      "source": [
        "from sklearn.preprocessing import StandardScaler\n",
        "from sklearn.decomposition import PCA\n",
        "\n",
        "rescale = StandardScaler()\n",
        "scale_func = rescale.fit_transform(train_func_connectome.drop(columns='participant_id'))\n",
        "\n",
        "pca_med = PCA(n_components=0.95, random_state=40)\n",
        "func_connectome_pca = pca_med.fit_transform(scale_func)\n",
        "\n",
        "# convert reduced pca ver back to df\n",
        "func_connectome_pca = pd.DataFrame(func_connectome_pca, columns = [f'PCA_{i}' for i in range(func_connectome_pca.shape[1])])\n",
        "func_connectome_pca['participant_id'] = train_func_connectome['participant_id'].values"
      ]
    },
    {
      "cell_type": "code",
      "execution_count": 21,
      "metadata": {
        "colab": {
          "base_uri": "https://localhost:8080/"
        },
        "id": "4dEM6OAE2edI",
        "outputId": "65ee8232-b233-4b46-bb23-797c6296ed64"
      },
      "outputs": [
        {
          "name": "stdout",
          "output_type": "stream",
          "text": [
            "Function Connectome DF Original Version: (1213, 19901)\n",
            "Function Connectome DF Reduced Version: (1213, 1104)\n"
          ]
        }
      ],
      "source": [
        "print(f'Function Connectome DF Original Version: {train_func_connectome.shape}')\n",
        "print(f'Function Connectome DF Reduced Version: {func_connectome_pca.shape}')"
      ]
    },
    {
      "cell_type": "markdown",
      "metadata": {
        "id": "B3J4zKxV4I9e"
      },
      "source": [
        "# Merge datasets"
      ]
    },
    {
      "cell_type": "code",
      "execution_count": 22,
      "metadata": {
        "id": "KCtYq7E12tIB"
      },
      "outputs": [],
      "source": [
        "merged_df = train_cat_meta.merge(train_quant, on='participant_id').merge(func_connectome_pca, on='participant_id').merge(train_solution, on='participant_id') #missing solution earlier"
      ]
    },
    {
      "cell_type": "code",
      "execution_count": 23,
      "metadata": {
        "id": "_Hnc3M7j4hsN"
      },
      "outputs": [],
      "source": [
        "#final check\n",
        "assert merged_df.isnull().sum().sum() == 0, \"Missing values still appear after merging\""
      ]
    },
    {
      "cell_type": "markdown",
      "metadata": {
        "id": "eGa0TYZQ4yo0"
      },
      "source": [
        "# Split Data for Training"
      ]
    },
    {
      "cell_type": "code",
      "execution_count": 24,
      "metadata": {
        "colab": {
          "base_uri": "https://localhost:8080/"
        },
        "id": "nDXuYtDa5C-U",
        "outputId": "ecd3fa30-66c3-4394-834b-e62253d10c9d"
      },
      "outputs": [
        {
          "data": {
            "text/plain": [
              "(1213, 1133)"
            ]
          },
          "execution_count": 24,
          "metadata": {},
          "output_type": "execute_result"
        }
      ],
      "source": [
        "merged_df.shape"
      ]
    },
    {
      "cell_type": "code",
      "execution_count": 25,
      "metadata": {
        "colab": {
          "base_uri": "https://localhost:8080/",
          "height": 236
        },
        "id": "k_Op6ie-5Hs-",
        "outputId": "6ff4ae2e-f674-4c7d-ff14-d1f6835f5da6"
      },
      "outputs": [
        {
          "data": {
            "text/html": [
              "<div>\n",
              "<style scoped>\n",
              "    .dataframe tbody tr th:only-of-type {\n",
              "        vertical-align: middle;\n",
              "    }\n",
              "\n",
              "    .dataframe tbody tr th {\n",
              "        vertical-align: top;\n",
              "    }\n",
              "\n",
              "    .dataframe thead th {\n",
              "        text-align: right;\n",
              "    }\n",
              "</style>\n",
              "<table border=\"1\" class=\"dataframe\">\n",
              "  <thead>\n",
              "    <tr style=\"text-align: right;\">\n",
              "      <th></th>\n",
              "      <th>participant_id</th>\n",
              "      <th>Basic_Demos_Enroll_Year</th>\n",
              "      <th>Basic_Demos_Study_Site</th>\n",
              "      <th>PreInt_Demos_Fam_Child_Ethnicity</th>\n",
              "      <th>PreInt_Demos_Fam_Child_Race</th>\n",
              "      <th>MRI_Track_Scan_Location</th>\n",
              "      <th>Barratt_Barratt_P1_Edu</th>\n",
              "      <th>Barratt_Barratt_P1_Occ</th>\n",
              "      <th>Barratt_Barratt_P2_Edu</th>\n",
              "      <th>Barratt_Barratt_P2_Occ</th>\n",
              "      <th>...</th>\n",
              "      <th>PCA_1095</th>\n",
              "      <th>PCA_1096</th>\n",
              "      <th>PCA_1097</th>\n",
              "      <th>PCA_1098</th>\n",
              "      <th>PCA_1099</th>\n",
              "      <th>PCA_1100</th>\n",
              "      <th>PCA_1101</th>\n",
              "      <th>PCA_1102</th>\n",
              "      <th>ADHD_Outcome</th>\n",
              "      <th>Sex_F</th>\n",
              "    </tr>\n",
              "  </thead>\n",
              "  <tbody>\n",
              "    <tr>\n",
              "      <th>0</th>\n",
              "      <td>UmrK0vMLopoR</td>\n",
              "      <td>2016</td>\n",
              "      <td>1</td>\n",
              "      <td>0.0</td>\n",
              "      <td>0</td>\n",
              "      <td>1</td>\n",
              "      <td>21</td>\n",
              "      <td>45</td>\n",
              "      <td>21</td>\n",
              "      <td>45</td>\n",
              "      <td>...</td>\n",
              "      <td>0.401777</td>\n",
              "      <td>-1.147885</td>\n",
              "      <td>-0.991695</td>\n",
              "      <td>-0.433995</td>\n",
              "      <td>0.611614</td>\n",
              "      <td>-0.691968</td>\n",
              "      <td>-0.436498</td>\n",
              "      <td>0.265673</td>\n",
              "      <td>1</td>\n",
              "      <td>1</td>\n",
              "    </tr>\n",
              "    <tr>\n",
              "      <th>1</th>\n",
              "      <td>CPaeQkhcjg7d</td>\n",
              "      <td>2019</td>\n",
              "      <td>3</td>\n",
              "      <td>1.0</td>\n",
              "      <td>2</td>\n",
              "      <td>3</td>\n",
              "      <td>15</td>\n",
              "      <td>15</td>\n",
              "      <td>0</td>\n",
              "      <td>0</td>\n",
              "      <td>...</td>\n",
              "      <td>-3.524900</td>\n",
              "      <td>2.098919</td>\n",
              "      <td>-0.334596</td>\n",
              "      <td>-0.602407</td>\n",
              "      <td>8.234615</td>\n",
              "      <td>2.861807</td>\n",
              "      <td>-6.050851</td>\n",
              "      <td>-3.327359</td>\n",
              "      <td>1</td>\n",
              "      <td>0</td>\n",
              "    </tr>\n",
              "    <tr>\n",
              "      <th>2</th>\n",
              "      <td>Nb4EetVPm3gs</td>\n",
              "      <td>2016</td>\n",
              "      <td>1</td>\n",
              "      <td>1.0</td>\n",
              "      <td>8</td>\n",
              "      <td>1</td>\n",
              "      <td>18</td>\n",
              "      <td>40</td>\n",
              "      <td>0</td>\n",
              "      <td>0</td>\n",
              "      <td>...</td>\n",
              "      <td>-1.306160</td>\n",
              "      <td>1.324572</td>\n",
              "      <td>-3.670966</td>\n",
              "      <td>1.504438</td>\n",
              "      <td>0.770388</td>\n",
              "      <td>-0.904208</td>\n",
              "      <td>1.443721</td>\n",
              "      <td>-1.095675</td>\n",
              "      <td>1</td>\n",
              "      <td>0</td>\n",
              "    </tr>\n",
              "    <tr>\n",
              "      <th>3</th>\n",
              "      <td>p4vPhVu91o4b</td>\n",
              "      <td>2018</td>\n",
              "      <td>3</td>\n",
              "      <td>0.0</td>\n",
              "      <td>8</td>\n",
              "      <td>3</td>\n",
              "      <td>15</td>\n",
              "      <td>30</td>\n",
              "      <td>18</td>\n",
              "      <td>0</td>\n",
              "      <td>...</td>\n",
              "      <td>-3.590970</td>\n",
              "      <td>0.633950</td>\n",
              "      <td>-4.149145</td>\n",
              "      <td>0.154686</td>\n",
              "      <td>-1.164516</td>\n",
              "      <td>0.907957</td>\n",
              "      <td>-1.108788</td>\n",
              "      <td>-3.184772</td>\n",
              "      <td>1</td>\n",
              "      <td>1</td>\n",
              "    </tr>\n",
              "    <tr>\n",
              "      <th>4</th>\n",
              "      <td>M09PXs7arQ5E</td>\n",
              "      <td>2019</td>\n",
              "      <td>3</td>\n",
              "      <td>0.0</td>\n",
              "      <td>1</td>\n",
              "      <td>3</td>\n",
              "      <td>15</td>\n",
              "      <td>20</td>\n",
              "      <td>0</td>\n",
              "      <td>0</td>\n",
              "      <td>...</td>\n",
              "      <td>5.419392</td>\n",
              "      <td>2.279699</td>\n",
              "      <td>-0.286531</td>\n",
              "      <td>-0.221317</td>\n",
              "      <td>2.663301</td>\n",
              "      <td>0.881275</td>\n",
              "      <td>0.507105</td>\n",
              "      <td>-0.564102</td>\n",
              "      <td>1</td>\n",
              "      <td>1</td>\n",
              "    </tr>\n",
              "  </tbody>\n",
              "</table>\n",
              "<p>5 rows × 1133 columns</p>\n",
              "</div>"
            ],
            "text/plain": [
              "  participant_id  Basic_Demos_Enroll_Year  Basic_Demos_Study_Site  \\\n",
              "0   UmrK0vMLopoR                     2016                       1   \n",
              "1   CPaeQkhcjg7d                     2019                       3   \n",
              "2   Nb4EetVPm3gs                     2016                       1   \n",
              "3   p4vPhVu91o4b                     2018                       3   \n",
              "4   M09PXs7arQ5E                     2019                       3   \n",
              "\n",
              "   PreInt_Demos_Fam_Child_Ethnicity  PreInt_Demos_Fam_Child_Race  \\\n",
              "0                               0.0                            0   \n",
              "1                               1.0                            2   \n",
              "2                               1.0                            8   \n",
              "3                               0.0                            8   \n",
              "4                               0.0                            1   \n",
              "\n",
              "   MRI_Track_Scan_Location  Barratt_Barratt_P1_Edu  Barratt_Barratt_P1_Occ  \\\n",
              "0                        1                      21                      45   \n",
              "1                        3                      15                      15   \n",
              "2                        1                      18                      40   \n",
              "3                        3                      15                      30   \n",
              "4                        3                      15                      20   \n",
              "\n",
              "   Barratt_Barratt_P2_Edu  Barratt_Barratt_P2_Occ  ...  PCA_1095  PCA_1096  \\\n",
              "0                      21                      45  ...  0.401777 -1.147885   \n",
              "1                       0                       0  ... -3.524900  2.098919   \n",
              "2                       0                       0  ... -1.306160  1.324572   \n",
              "3                      18                       0  ... -3.590970  0.633950   \n",
              "4                       0                       0  ...  5.419392  2.279699   \n",
              "\n",
              "   PCA_1097  PCA_1098  PCA_1099  PCA_1100  PCA_1101  PCA_1102  ADHD_Outcome  \\\n",
              "0 -0.991695 -0.433995  0.611614 -0.691968 -0.436498  0.265673             1   \n",
              "1 -0.334596 -0.602407  8.234615  2.861807 -6.050851 -3.327359             1   \n",
              "2 -3.670966  1.504438  0.770388 -0.904208  1.443721 -1.095675             1   \n",
              "3 -4.149145  0.154686 -1.164516  0.907957 -1.108788 -3.184772             1   \n",
              "4 -0.286531 -0.221317  2.663301  0.881275  0.507105 -0.564102             1   \n",
              "\n",
              "   Sex_F  \n",
              "0      1  \n",
              "1      0  \n",
              "2      0  \n",
              "3      1  \n",
              "4      1  \n",
              "\n",
              "[5 rows x 1133 columns]"
            ]
          },
          "execution_count": 25,
          "metadata": {},
          "output_type": "execute_result"
        }
      ],
      "source": [
        "merged_df.head()"
      ]
    },
    {
      "cell_type": "code",
      "execution_count": 26,
      "metadata": {
        "colab": {
          "base_uri": "https://localhost:8080/",
          "height": 207
        },
        "id": "Hf7ddK3F5OCs",
        "outputId": "b8df9272-9b95-4069-ca8a-f1edbe002770"
      },
      "outputs": [
        {
          "data": {
            "text/html": [
              "<div>\n",
              "<style scoped>\n",
              "    .dataframe tbody tr th:only-of-type {\n",
              "        vertical-align: middle;\n",
              "    }\n",
              "\n",
              "    .dataframe tbody tr th {\n",
              "        vertical-align: top;\n",
              "    }\n",
              "\n",
              "    .dataframe thead th {\n",
              "        text-align: right;\n",
              "    }\n",
              "</style>\n",
              "<table border=\"1\" class=\"dataframe\">\n",
              "  <thead>\n",
              "    <tr style=\"text-align: right;\">\n",
              "      <th></th>\n",
              "      <th>participant_id</th>\n",
              "      <th>ADHD_Outcome</th>\n",
              "      <th>Sex_F</th>\n",
              "    </tr>\n",
              "  </thead>\n",
              "  <tbody>\n",
              "    <tr>\n",
              "      <th>0</th>\n",
              "      <td>UmrK0vMLopoR</td>\n",
              "      <td>1</td>\n",
              "      <td>1</td>\n",
              "    </tr>\n",
              "    <tr>\n",
              "      <th>1</th>\n",
              "      <td>CPaeQkhcjg7d</td>\n",
              "      <td>1</td>\n",
              "      <td>0</td>\n",
              "    </tr>\n",
              "    <tr>\n",
              "      <th>2</th>\n",
              "      <td>Nb4EetVPm3gs</td>\n",
              "      <td>1</td>\n",
              "      <td>0</td>\n",
              "    </tr>\n",
              "    <tr>\n",
              "      <th>3</th>\n",
              "      <td>p4vPhVu91o4b</td>\n",
              "      <td>1</td>\n",
              "      <td>1</td>\n",
              "    </tr>\n",
              "    <tr>\n",
              "      <th>4</th>\n",
              "      <td>M09PXs7arQ5E</td>\n",
              "      <td>1</td>\n",
              "      <td>1</td>\n",
              "    </tr>\n",
              "  </tbody>\n",
              "</table>\n",
              "</div>"
            ],
            "text/plain": [
              "  participant_id  ADHD_Outcome  Sex_F\n",
              "0   UmrK0vMLopoR             1      1\n",
              "1   CPaeQkhcjg7d             1      0\n",
              "2   Nb4EetVPm3gs             1      0\n",
              "3   p4vPhVu91o4b             1      1\n",
              "4   M09PXs7arQ5E             1      1"
            ]
          },
          "execution_count": 26,
          "metadata": {},
          "output_type": "execute_result"
        }
      ],
      "source": [
        "train_solution.head()"
      ]
    },
    {
      "cell_type": "code",
      "execution_count": 27,
      "metadata": {
        "id": "pHPu_G9b4mKJ"
      },
      "outputs": [],
      "source": [
        "from sklearn.model_selection import train_test_split\n",
        "\n",
        "X = merged_df.drop(columns=['participant_id', 'ADHD_Outcome', 'Sex_F']) #fixed: missing train_solution when merginig earlier\n",
        "y = merged_df[['ADHD_Outcome', 'Sex_F']]\n",
        "\n",
        "X_train, X_val, y_train, y_val = train_test_split(X,y , test_size=0.3, random_state= 40)"
      ]
    },
    {
      "cell_type": "markdown",
      "metadata": {
        "id": "CslrLGQn5pW0"
      },
      "source": [
        "# Load models V1"
      ]
    },
    {
      "cell_type": "markdown",
      "metadata": {
        "id": "bIkEVVJOBhW9"
      },
      "source": [
        "# RF on Validation Set"
      ]
    },
    {
      "cell_type": "code",
      "execution_count": 28,
      "metadata": {
        "colab": {
          "base_uri": "https://localhost:8080/"
        },
        "id": "8H1VXyRk7gnW",
        "outputId": "68573269-d6b8-4cc8-b048-882a47e13ec1"
      },
      "outputs": [
        {
          "name": "stdout",
          "output_type": "stream",
          "text": [
            "RF ADHD_Outcome Accuracy: 0.7747252747252747\n",
            "              precision    recall  f1-score   support\n",
            "\n",
            "           0       0.83      0.34      0.48       112\n",
            "           1       0.77      0.97      0.86       252\n",
            "\n",
            "    accuracy                           0.77       364\n",
            "   macro avg       0.80      0.65      0.67       364\n",
            "weighted avg       0.79      0.77      0.74       364\n",
            "\n",
            "RF Sex_F Accuracy: 0.6648351648351648\n",
            "              precision    recall  f1-score   support\n",
            "\n",
            "           0       0.66      1.00      0.80       238\n",
            "           1       1.00      0.03      0.06       126\n",
            "\n",
            "    accuracy                           0.66       364\n",
            "   macro avg       0.83      0.52      0.43       364\n",
            "weighted avg       0.78      0.66      0.54       364\n",
            "\n"
          ]
        }
      ],
      "source": [
        "from sklearn.ensemble import RandomForestClassifier\n",
        "from sklearn.metrics import accuracy_score, classification_report\n",
        "\n",
        "rf_adhd = RandomForestClassifier(n_estimators=100, random_state=40)\n",
        "rf_adhd.fit(X_train, y_train['ADHD_Outcome'])\n",
        "y_pred_adhd = rf_adhd.predict(X_val)\n",
        "\n",
        "# ADHD pred\n",
        "print(\"RF ADHD_Outcome Accuracy:\", accuracy_score(y_val['ADHD_Outcome'], y_pred_adhd))\n",
        "print(classification_report(y_val['ADHD_Outcome'], y_pred_adhd))\n",
        "\n",
        "# Sex pred\n",
        "rf_sex = RandomForestClassifier(n_estimators=100, random_state=40)\n",
        "rf_sex.fit(X_train, y_train['Sex_F'])\n",
        "y_pred_sex = rf_sex.predict(X_val)\n",
        "\n",
        "print(\"RF Sex_F Accuracy:\", accuracy_score(y_val['Sex_F'], y_pred_sex))\n",
        "print(classification_report(y_val['Sex_F'], y_pred_sex))\n"
      ]
    },
    {
      "cell_type": "markdown",
      "metadata": {
        "id": "csnJObeFDyat"
      },
      "source": [
        "# XGB on Valid Set"
      ]
    },
    {
      "cell_type": "code",
      "execution_count": 29,
      "metadata": {
        "colab": {
          "base_uri": "https://localhost:8080/"
        },
        "id": "mKxQLrok76sW",
        "outputId": "8f441446-32e0-4e4b-a837-317903f326ed"
      },
      "outputs": [
        {
          "ename": "ModuleNotFoundError",
          "evalue": "No module named 'xgboost'",
          "output_type": "error",
          "traceback": [
            "\u001b[0;31m---------------------------------------------------------------------------\u001b[0m",
            "\u001b[0;31mModuleNotFoundError\u001b[0m                       Traceback (most recent call last)",
            "Cell \u001b[0;32mIn[29], line 1\u001b[0m\n\u001b[0;32m----> 1\u001b[0m \u001b[38;5;28;01mfrom\u001b[39;00m\u001b[38;5;250m \u001b[39m\u001b[38;5;21;01mxgboost\u001b[39;00m\u001b[38;5;250m \u001b[39m\u001b[38;5;28;01mimport\u001b[39;00m XGBClassifier\n\u001b[1;32m      2\u001b[0m \u001b[38;5;28;01mfrom\u001b[39;00m\u001b[38;5;250m \u001b[39m\u001b[38;5;21;01msklearn\u001b[39;00m\u001b[38;5;21;01m.\u001b[39;00m\u001b[38;5;21;01mmetrics\u001b[39;00m\u001b[38;5;250m \u001b[39m\u001b[38;5;28;01mimport\u001b[39;00m accuracy_score, classification_report\n\u001b[1;32m      4\u001b[0m \u001b[38;5;66;03m# ADHD pred\u001b[39;00m\n",
            "\u001b[0;31mModuleNotFoundError\u001b[0m: No module named 'xgboost'"
          ]
        }
      ],
      "source": [
        "from xgboost import XGBClassifier\n",
        "from sklearn.metrics import accuracy_score, classification_report\n",
        "\n",
        "# ADHD pred\n",
        "xgb_adhd = XGBClassifier(n_estimators=100,\n",
        "                        learning_rate=0.1,\n",
        "                        random_state=40,\n",
        "                        use_label_encoder=False,\n",
        "                        eval_metric='logloss')\n",
        "xgb_adhd.fit(X_train, y_train['ADHD_Outcome'])\n",
        "y_pred_adhd = xgb_adhd.predict(X_val)\n",
        "\n",
        "print(\"XGBoost ADHD_Outcome Accuracy:\", accuracy_score(y_val['ADHD_Outcome'], y_pred_adhd))\n",
        "print(classification_report(y_val['ADHD_Outcome'], y_pred_adhd))\n",
        "\n",
        "# Sex pred\n",
        "xgb_sex = XGBClassifier(n_estimators=100,\n",
        "                      learning_rate=0.1,\n",
        "                      random_state=40,\n",
        "                      use_label_encoder=False,\n",
        "                      eval_metric='logloss')\n",
        "xgb_sex.fit(X_train, y_train['Sex_F'])\n",
        "y_pred_sex = xgb_sex.predict(X_val)\n",
        "\n",
        "print(\"XGBoost Sex_F Accuracy:\", accuracy_score(y_val['Sex_F'], y_pred_sex))\n",
        "print(classification_report(y_val['Sex_F'], y_pred_sex))\n"
      ]
    },
    {
      "cell_type": "code",
      "execution_count": null,
      "metadata": {
        "colab": {
          "base_uri": "https://localhost:8080/"
        },
        "id": "41AEV-BuC5T0",
        "outputId": "8d60ad0f-28ab-4ffa-848e-680fa4b304f4"
      },
      "outputs": [
        {
          "name": "stdout",
          "output_type": "stream",
          "text": [
            "2.1.4\n"
          ]
        }
      ],
      "source": [
        "import xgboost\n",
        "print(xgboost.__version__)"
      ]
    },
    {
      "cell_type": "markdown",
      "metadata": {
        "id": "6o5Oc546D3Aw"
      },
      "source": [
        "# Voting on Valid Set"
      ]
    },
    {
      "cell_type": "code",
      "execution_count": null,
      "metadata": {
        "colab": {
          "base_uri": "https://localhost:8080/",
          "height": 727
        },
        "id": "1JgxykVRIW10",
        "outputId": "58e06289-9a19-426f-9d65-842e4740dfde"
      },
      "outputs": [
        {
          "name": "stderr",
          "output_type": "stream",
          "text": [
            "/usr/local/lib/python3.11/dist-packages/xgboost/core.py:158: UserWarning: [20:11:59] WARNING: /workspace/src/learner.cc:740: \n",
            "Parameters: { \"use_label_encoder\" } are not used.\n",
            "\n",
            "  warnings.warn(smsg, UserWarning)\n"
          ]
        },
        {
          "name": "stdout",
          "output_type": "stream",
          "text": [
            "Voting Model ADHD_Outcome Accuracy: 0.7939560439560439\n",
            "              precision    recall  f1-score   support\n",
            "\n",
            "           0       0.73      0.52      0.61       112\n",
            "           1       0.81      0.92      0.86       252\n",
            "\n",
            "    accuracy                           0.79       364\n",
            "   macro avg       0.77      0.72      0.73       364\n",
            "weighted avg       0.79      0.79      0.78       364\n",
            "\n"
          ]
        },
        {
          "name": "stderr",
          "output_type": "stream",
          "text": [
            "/usr/local/lib/python3.11/dist-packages/xgboost/core.py:158: UserWarning: [20:12:06] WARNING: /workspace/src/learner.cc:740: \n",
            "Parameters: { \"use_label_encoder\" } are not used.\n",
            "\n",
            "  warnings.warn(smsg, UserWarning)\n"
          ]
        },
        {
          "name": "stdout",
          "output_type": "stream",
          "text": [
            "Voting Model Sex_F Accuracy: 0.6510989010989011\n",
            "              precision    recall  f1-score   support\n",
            "\n",
            "           0       0.67      0.94      0.78       238\n",
            "           1       0.48      0.11      0.18       126\n",
            "\n",
            "    accuracy                           0.65       364\n",
            "   macro avg       0.57      0.52      0.48       364\n",
            "weighted avg       0.60      0.65      0.57       364\n",
            " \n",
            "\n",
            "Voting Classifier Predictions on Validation Set:\n"
          ]
        },
        {
          "data": {
            "application/vnd.google.colaboratory.intrinsic+json": {
              "summary": "{\n  \"name\": \"display(voting_results\",\n  \"rows\": 5,\n  \"fields\": [\n    {\n      \"column\": \"participant_id\",\n      \"properties\": {\n        \"dtype\": \"string\",\n        \"num_unique_values\": 5,\n        \"samples\": [\n          \"l6iSqFUUKBaQ\",\n          \"MiCB6SQX7seF\",\n          \"QwmjNJAiuDOB\"\n        ],\n        \"semantic_type\": \"\",\n        \"description\": \"\"\n      }\n    },\n    {\n      \"column\": \"ADHD_Outcome\",\n      \"properties\": {\n        \"dtype\": \"number\",\n        \"std\": 0,\n        \"min\": 0,\n        \"max\": 1,\n        \"num_unique_values\": 2,\n        \"samples\": [\n          0,\n          1\n        ],\n        \"semantic_type\": \"\",\n        \"description\": \"\"\n      }\n    },\n    {\n      \"column\": \"Sex_F\",\n      \"properties\": {\n        \"dtype\": \"number\",\n        \"std\": 0,\n        \"min\": 0,\n        \"max\": 0,\n        \"num_unique_values\": 1,\n        \"samples\": [\n          0\n        ],\n        \"semantic_type\": \"\",\n        \"description\": \"\"\n      }\n    }\n  ]\n}",
              "type": "dataframe"
            },
            "text/html": [
              "\n",
              "  <div id=\"df-87c72808-be03-4d9a-a034-3c7be298435a\" class=\"colab-df-container\">\n",
              "    <div>\n",
              "<style scoped>\n",
              "    .dataframe tbody tr th:only-of-type {\n",
              "        vertical-align: middle;\n",
              "    }\n",
              "\n",
              "    .dataframe tbody tr th {\n",
              "        vertical-align: top;\n",
              "    }\n",
              "\n",
              "    .dataframe thead th {\n",
              "        text-align: right;\n",
              "    }\n",
              "</style>\n",
              "<table border=\"1\" class=\"dataframe\">\n",
              "  <thead>\n",
              "    <tr style=\"text-align: right;\">\n",
              "      <th></th>\n",
              "      <th>participant_id</th>\n",
              "      <th>ADHD_Outcome</th>\n",
              "      <th>Sex_F</th>\n",
              "    </tr>\n",
              "  </thead>\n",
              "  <tbody>\n",
              "    <tr>\n",
              "      <th>687</th>\n",
              "      <td>psUujiWvKE2O</td>\n",
              "      <td>1</td>\n",
              "      <td>0</td>\n",
              "    </tr>\n",
              "    <tr>\n",
              "      <th>849</th>\n",
              "      <td>l6iSqFUUKBaQ</td>\n",
              "      <td>1</td>\n",
              "      <td>0</td>\n",
              "    </tr>\n",
              "    <tr>\n",
              "      <th>954</th>\n",
              "      <td>QwmjNJAiuDOB</td>\n",
              "      <td>0</td>\n",
              "      <td>0</td>\n",
              "    </tr>\n",
              "    <tr>\n",
              "      <th>750</th>\n",
              "      <td>H3bW91XbuIoq</td>\n",
              "      <td>1</td>\n",
              "      <td>0</td>\n",
              "    </tr>\n",
              "    <tr>\n",
              "      <th>524</th>\n",
              "      <td>MiCB6SQX7seF</td>\n",
              "      <td>1</td>\n",
              "      <td>0</td>\n",
              "    </tr>\n",
              "  </tbody>\n",
              "</table>\n",
              "</div>\n",
              "    <div class=\"colab-df-buttons\">\n",
              "\n",
              "  <div class=\"colab-df-container\">\n",
              "    <button class=\"colab-df-convert\" onclick=\"convertToInteractive('df-87c72808-be03-4d9a-a034-3c7be298435a')\"\n",
              "            title=\"Convert this dataframe to an interactive table.\"\n",
              "            style=\"display:none;\">\n",
              "\n",
              "  <svg xmlns=\"http://www.w3.org/2000/svg\" height=\"24px\" viewBox=\"0 -960 960 960\">\n",
              "    <path d=\"M120-120v-720h720v720H120Zm60-500h600v-160H180v160Zm220 220h160v-160H400v160Zm0 220h160v-160H400v160ZM180-400h160v-160H180v160Zm440 0h160v-160H620v160ZM180-180h160v-160H180v160Zm440 0h160v-160H620v160Z\"/>\n",
              "  </svg>\n",
              "    </button>\n",
              "\n",
              "  <style>\n",
              "    .colab-df-container {\n",
              "      display:flex;\n",
              "      gap: 12px;\n",
              "    }\n",
              "\n",
              "    .colab-df-convert {\n",
              "      background-color: #E8F0FE;\n",
              "      border: none;\n",
              "      border-radius: 50%;\n",
              "      cursor: pointer;\n",
              "      display: none;\n",
              "      fill: #1967D2;\n",
              "      height: 32px;\n",
              "      padding: 0 0 0 0;\n",
              "      width: 32px;\n",
              "    }\n",
              "\n",
              "    .colab-df-convert:hover {\n",
              "      background-color: #E2EBFA;\n",
              "      box-shadow: 0px 1px 2px rgba(60, 64, 67, 0.3), 0px 1px 3px 1px rgba(60, 64, 67, 0.15);\n",
              "      fill: #174EA6;\n",
              "    }\n",
              "\n",
              "    .colab-df-buttons div {\n",
              "      margin-bottom: 4px;\n",
              "    }\n",
              "\n",
              "    [theme=dark] .colab-df-convert {\n",
              "      background-color: #3B4455;\n",
              "      fill: #D2E3FC;\n",
              "    }\n",
              "\n",
              "    [theme=dark] .colab-df-convert:hover {\n",
              "      background-color: #434B5C;\n",
              "      box-shadow: 0px 1px 3px 1px rgba(0, 0, 0, 0.15);\n",
              "      filter: drop-shadow(0px 1px 2px rgba(0, 0, 0, 0.3));\n",
              "      fill: #FFFFFF;\n",
              "    }\n",
              "  </style>\n",
              "\n",
              "    <script>\n",
              "      const buttonEl =\n",
              "        document.querySelector('#df-87c72808-be03-4d9a-a034-3c7be298435a button.colab-df-convert');\n",
              "      buttonEl.style.display =\n",
              "        google.colab.kernel.accessAllowed ? 'block' : 'none';\n",
              "\n",
              "      async function convertToInteractive(key) {\n",
              "        const element = document.querySelector('#df-87c72808-be03-4d9a-a034-3c7be298435a');\n",
              "        const dataTable =\n",
              "          await google.colab.kernel.invokeFunction('convertToInteractive',\n",
              "                                                    [key], {});\n",
              "        if (!dataTable) return;\n",
              "\n",
              "        const docLinkHtml = 'Like what you see? Visit the ' +\n",
              "          '<a target=\"_blank\" href=https://colab.research.google.com/notebooks/data_table.ipynb>data table notebook</a>'\n",
              "          + ' to learn more about interactive tables.';\n",
              "        element.innerHTML = '';\n",
              "        dataTable['output_type'] = 'display_data';\n",
              "        await google.colab.output.renderOutput(dataTable, element);\n",
              "        const docLink = document.createElement('div');\n",
              "        docLink.innerHTML = docLinkHtml;\n",
              "        element.appendChild(docLink);\n",
              "      }\n",
              "    </script>\n",
              "  </div>\n",
              "\n",
              "\n",
              "<div id=\"df-440aa771-8c0a-48e9-866d-115c38d534a1\">\n",
              "  <button class=\"colab-df-quickchart\" onclick=\"quickchart('df-440aa771-8c0a-48e9-866d-115c38d534a1')\"\n",
              "            title=\"Suggest charts\"\n",
              "            style=\"display:none;\">\n",
              "\n",
              "<svg xmlns=\"http://www.w3.org/2000/svg\" height=\"24px\"viewBox=\"0 0 24 24\"\n",
              "     width=\"24px\">\n",
              "    <g>\n",
              "        <path d=\"M19 3H5c-1.1 0-2 .9-2 2v14c0 1.1.9 2 2 2h14c1.1 0 2-.9 2-2V5c0-1.1-.9-2-2-2zM9 17H7v-7h2v7zm4 0h-2V7h2v10zm4 0h-2v-4h2v4z\"/>\n",
              "    </g>\n",
              "</svg>\n",
              "  </button>\n",
              "\n",
              "<style>\n",
              "  .colab-df-quickchart {\n",
              "      --bg-color: #E8F0FE;\n",
              "      --fill-color: #1967D2;\n",
              "      --hover-bg-color: #E2EBFA;\n",
              "      --hover-fill-color: #174EA6;\n",
              "      --disabled-fill-color: #AAA;\n",
              "      --disabled-bg-color: #DDD;\n",
              "  }\n",
              "\n",
              "  [theme=dark] .colab-df-quickchart {\n",
              "      --bg-color: #3B4455;\n",
              "      --fill-color: #D2E3FC;\n",
              "      --hover-bg-color: #434B5C;\n",
              "      --hover-fill-color: #FFFFFF;\n",
              "      --disabled-bg-color: #3B4455;\n",
              "      --disabled-fill-color: #666;\n",
              "  }\n",
              "\n",
              "  .colab-df-quickchart {\n",
              "    background-color: var(--bg-color);\n",
              "    border: none;\n",
              "    border-radius: 50%;\n",
              "    cursor: pointer;\n",
              "    display: none;\n",
              "    fill: var(--fill-color);\n",
              "    height: 32px;\n",
              "    padding: 0;\n",
              "    width: 32px;\n",
              "  }\n",
              "\n",
              "  .colab-df-quickchart:hover {\n",
              "    background-color: var(--hover-bg-color);\n",
              "    box-shadow: 0 1px 2px rgba(60, 64, 67, 0.3), 0 1px 3px 1px rgba(60, 64, 67, 0.15);\n",
              "    fill: var(--button-hover-fill-color);\n",
              "  }\n",
              "\n",
              "  .colab-df-quickchart-complete:disabled,\n",
              "  .colab-df-quickchart-complete:disabled:hover {\n",
              "    background-color: var(--disabled-bg-color);\n",
              "    fill: var(--disabled-fill-color);\n",
              "    box-shadow: none;\n",
              "  }\n",
              "\n",
              "  .colab-df-spinner {\n",
              "    border: 2px solid var(--fill-color);\n",
              "    border-color: transparent;\n",
              "    border-bottom-color: var(--fill-color);\n",
              "    animation:\n",
              "      spin 1s steps(1) infinite;\n",
              "  }\n",
              "\n",
              "  @keyframes spin {\n",
              "    0% {\n",
              "      border-color: transparent;\n",
              "      border-bottom-color: var(--fill-color);\n",
              "      border-left-color: var(--fill-color);\n",
              "    }\n",
              "    20% {\n",
              "      border-color: transparent;\n",
              "      border-left-color: var(--fill-color);\n",
              "      border-top-color: var(--fill-color);\n",
              "    }\n",
              "    30% {\n",
              "      border-color: transparent;\n",
              "      border-left-color: var(--fill-color);\n",
              "      border-top-color: var(--fill-color);\n",
              "      border-right-color: var(--fill-color);\n",
              "    }\n",
              "    40% {\n",
              "      border-color: transparent;\n",
              "      border-right-color: var(--fill-color);\n",
              "      border-top-color: var(--fill-color);\n",
              "    }\n",
              "    60% {\n",
              "      border-color: transparent;\n",
              "      border-right-color: var(--fill-color);\n",
              "    }\n",
              "    80% {\n",
              "      border-color: transparent;\n",
              "      border-right-color: var(--fill-color);\n",
              "      border-bottom-color: var(--fill-color);\n",
              "    }\n",
              "    90% {\n",
              "      border-color: transparent;\n",
              "      border-bottom-color: var(--fill-color);\n",
              "    }\n",
              "  }\n",
              "</style>\n",
              "\n",
              "  <script>\n",
              "    async function quickchart(key) {\n",
              "      const quickchartButtonEl =\n",
              "        document.querySelector('#' + key + ' button');\n",
              "      quickchartButtonEl.disabled = true;  // To prevent multiple clicks.\n",
              "      quickchartButtonEl.classList.add('colab-df-spinner');\n",
              "      try {\n",
              "        const charts = await google.colab.kernel.invokeFunction(\n",
              "            'suggestCharts', [key], {});\n",
              "      } catch (error) {\n",
              "        console.error('Error during call to suggestCharts:', error);\n",
              "      }\n",
              "      quickchartButtonEl.classList.remove('colab-df-spinner');\n",
              "      quickchartButtonEl.classList.add('colab-df-quickchart-complete');\n",
              "    }\n",
              "    (() => {\n",
              "      let quickchartButtonEl =\n",
              "        document.querySelector('#df-440aa771-8c0a-48e9-866d-115c38d534a1 button');\n",
              "      quickchartButtonEl.style.display =\n",
              "        google.colab.kernel.accessAllowed ? 'block' : 'none';\n",
              "    })();\n",
              "  </script>\n",
              "</div>\n",
              "\n",
              "    </div>\n",
              "  </div>\n"
            ],
            "text/plain": [
              "    participant_id  ADHD_Outcome  Sex_F\n",
              "687   psUujiWvKE2O             1      0\n",
              "849   l6iSqFUUKBaQ             1      0\n",
              "954   QwmjNJAiuDOB             0      0\n",
              "750   H3bW91XbuIoq             1      0\n",
              "524   MiCB6SQX7seF             1      0"
            ]
          },
          "metadata": {},
          "output_type": "display_data"
        }
      ],
      "source": [
        "from sklearn.ensemble import RandomForestClassifier, VotingClassifier\n",
        "from xgboost import XGBClassifier\n",
        "from sklearn.metrics import accuracy_score, classification_report\n",
        "import pandas as pd\n",
        "\n",
        "rf = RandomForestClassifier(n_estimators=100, random_state=40)\n",
        "xgb = XGBClassifier(n_estimators=100, random_state=40, use_label_encoder=False, eval_metric='logloss')\n",
        "\n",
        "# ADHD_Outcome\n",
        "voting_clf_adhd = VotingClassifier(estimators=[('rf', rf), ('xgb', xgb)], voting='soft')\n",
        "voting_clf_adhd.fit(X_train, y_train['ADHD_Outcome'])\n",
        "adhd_preds = voting_clf_adhd.predict(X_val)\n",
        "\n",
        "print(f\"Voting Model ADHD_Outcome Accuracy: {accuracy_score(y_val['ADHD_Outcome'], adhd_preds)}\")\n",
        "print(classification_report(y_val['ADHD_Outcome'], adhd_preds))\n",
        "\n",
        "# Sex_F\n",
        "voting_clf_sex = VotingClassifier(estimators=[('rf', rf), ('xgb', xgb)], voting='soft')\n",
        "voting_clf_sex.fit(X_train, y_train['Sex_F'])\n",
        "sex_preds = voting_clf_sex.predict(X_val)\n",
        "\n",
        "print(f\"Voting Model Sex_F Accuracy: {accuracy_score(y_val['Sex_F'], sex_preds)}\")\n",
        "print(classification_report(y_val['Sex_F'], sex_preds), '\\n')\n",
        "\n",
        "voting_results = pd.DataFrame({\n",
        "    'participant_id': merged_df.loc[X_val.index, 'participant_id'],\n",
        "    'ADHD_Outcome': adhd_preds,\n",
        "    'Sex_F': sex_preds\n",
        "})\n",
        "\n",
        "print(\"Voting Classifier Predictions on Validation Set:\")\n",
        "from IPython.display import display\n",
        "display(voting_results.head())\n"
      ]
    },
    {
      "cell_type": "markdown",
      "metadata": {
        "id": "2rSXqOBYBeXS"
      },
      "source": [
        "## Training Set\n"
      ]
    },
    {
      "cell_type": "code",
      "execution_count": null,
      "metadata": {
        "colab": {
          "base_uri": "https://localhost:8080/"
        },
        "id": "-oeb-Im293IZ",
        "outputId": "b8db9102-5899-4e40-e4be-c320fd932ca7"
      },
      "outputs": [
        {
          "name": "stdout",
          "output_type": "stream",
          "text": [
            "RF ADHD_Outcome Training Accuracy: 1.0\n",
            "              precision    recall  f1-score   support\n",
            "\n",
            "           0       1.00      1.00      1.00       270\n",
            "           1       1.00      1.00      1.00       579\n",
            "\n",
            "    accuracy                           1.00       849\n",
            "   macro avg       1.00      1.00      1.00       849\n",
            "weighted avg       1.00      1.00      1.00       849\n",
            "\n",
            "XGBoost ADHD_Outcome Training Accuracy: 1.0\n",
            "              precision    recall  f1-score   support\n",
            "\n",
            "           0       1.00      1.00      1.00       270\n",
            "           1       1.00      1.00      1.00       579\n",
            "\n",
            "    accuracy                           1.00       849\n",
            "   macro avg       1.00      1.00      1.00       849\n",
            "weighted avg       1.00      1.00      1.00       849\n",
            "\n"
          ]
        }
      ],
      "source": [
        "from sklearn.metrics import accuracy_score, classification_report\n",
        "\n",
        "# check RF on training data\n",
        "y_train_pred_adhd_rf = rf_adhd.predict(X_train)\n",
        "print(\"RF ADHD_Outcome Training Accuracy:\", accuracy_score(y_train['ADHD_Outcome'], y_train_pred_adhd_rf))\n",
        "print(classification_report(y_train['ADHD_Outcome'], y_train_pred_adhd_rf))\n",
        "\n",
        "# check XGBoost on training data\n",
        "y_train_pred_adhd_xgb = xgb_adhd.predict(X_train)\n",
        "print(\"XGBoost ADHD_Outcome Training Accuracy:\", accuracy_score(y_train['ADHD_Outcome'], y_train_pred_adhd_xgb))\n",
        "print(classification_report(y_train['ADHD_Outcome'], y_train_pred_adhd_xgb))"
      ]
    },
    {
      "cell_type": "code",
      "execution_count": null,
      "metadata": {
        "id": "VSeMwvIKGky2"
      },
      "outputs": [],
      "source": []
    },
    {
      "cell_type": "markdown",
      "metadata": {
        "id": "LDaNPpUZBkHx"
      },
      "source": [
        "# Currently overfitting, will fine tune later\n"
      ]
    },
    {
      "cell_type": "code",
      "execution_count": null,
      "metadata": {
        "colab": {
          "base_uri": "https://localhost:8080/"
        },
        "id": "pG9lopHS7aaD",
        "outputId": "841356d5-2544-465d-9c0e-86a33a078ce3"
      },
      "outputs": [
        {
          "name": "stdout",
          "output_type": "stream",
          "text": [
            "Fitting 3 folds for each of 24 candidates, totalling 72 fits\n",
            "[CV] END max_depth=5, min_samples_leaf=1, min_samples_split=2, n_estimators=50; total time=   0.4s\n",
            "[CV] END max_depth=5, min_samples_leaf=1, min_samples_split=2, n_estimators=50; total time=   0.6s\n",
            "[CV] END max_depth=5, min_samples_leaf=1, min_samples_split=2, n_estimators=50; total time=   0.5s\n",
            "[CV] END max_depth=5, min_samples_leaf=1, min_samples_split=2, n_estimators=100; total time=   1.0s\n",
            "[CV] END max_depth=5, min_samples_leaf=1, min_samples_split=2, n_estimators=100; total time=   1.0s\n",
            "[CV] END max_depth=5, min_samples_leaf=1, min_samples_split=2, n_estimators=100; total time=   0.7s\n",
            "[CV] END max_depth=5, min_samples_leaf=1, min_samples_split=5, n_estimators=50; total time=   0.4s\n",
            "[CV] END max_depth=5, min_samples_leaf=1, min_samples_split=5, n_estimators=50; total time=   0.4s\n",
            "[CV] END max_depth=5, min_samples_leaf=1, min_samples_split=5, n_estimators=50; total time=   0.4s\n",
            "[CV] END max_depth=5, min_samples_leaf=1, min_samples_split=5, n_estimators=100; total time=   0.7s\n",
            "[CV] END max_depth=5, min_samples_leaf=1, min_samples_split=5, n_estimators=100; total time=   0.9s\n",
            "[CV] END max_depth=5, min_samples_leaf=1, min_samples_split=5, n_estimators=100; total time=   0.9s\n",
            "[CV] END max_depth=5, min_samples_leaf=3, min_samples_split=2, n_estimators=50; total time=   0.4s\n",
            "[CV] END max_depth=5, min_samples_leaf=3, min_samples_split=2, n_estimators=50; total time=   0.4s\n",
            "[CV] END max_depth=5, min_samples_leaf=3, min_samples_split=2, n_estimators=50; total time=   0.3s\n",
            "[CV] END max_depth=5, min_samples_leaf=3, min_samples_split=2, n_estimators=100; total time=   0.7s\n",
            "[CV] END max_depth=5, min_samples_leaf=3, min_samples_split=2, n_estimators=100; total time=   0.7s\n",
            "[CV] END max_depth=5, min_samples_leaf=3, min_samples_split=2, n_estimators=100; total time=   0.7s\n",
            "[CV] END max_depth=5, min_samples_leaf=3, min_samples_split=5, n_estimators=50; total time=   0.4s\n",
            "[CV] END max_depth=5, min_samples_leaf=3, min_samples_split=5, n_estimators=50; total time=   0.4s\n",
            "[CV] END max_depth=5, min_samples_leaf=3, min_samples_split=5, n_estimators=50; total time=   0.4s\n",
            "[CV] END max_depth=5, min_samples_leaf=3, min_samples_split=5, n_estimators=100; total time=   0.7s\n",
            "[CV] END max_depth=5, min_samples_leaf=3, min_samples_split=5, n_estimators=100; total time=   0.7s\n",
            "[CV] END max_depth=5, min_samples_leaf=3, min_samples_split=5, n_estimators=100; total time=   0.7s\n",
            "[CV] END max_depth=10, min_samples_leaf=1, min_samples_split=2, n_estimators=50; total time=   0.5s\n",
            "[CV] END max_depth=10, min_samples_leaf=1, min_samples_split=2, n_estimators=50; total time=   0.5s\n",
            "[CV] END max_depth=10, min_samples_leaf=1, min_samples_split=2, n_estimators=50; total time=   0.5s\n",
            "[CV] END max_depth=10, min_samples_leaf=1, min_samples_split=2, n_estimators=100; total time=   1.1s\n",
            "[CV] END max_depth=10, min_samples_leaf=1, min_samples_split=2, n_estimators=100; total time=   1.1s\n",
            "[CV] END max_depth=10, min_samples_leaf=1, min_samples_split=2, n_estimators=100; total time=   1.4s\n",
            "[CV] END max_depth=10, min_samples_leaf=1, min_samples_split=5, n_estimators=50; total time=   0.6s\n",
            "[CV] END max_depth=10, min_samples_leaf=1, min_samples_split=5, n_estimators=50; total time=   0.5s\n",
            "[CV] END max_depth=10, min_samples_leaf=1, min_samples_split=5, n_estimators=50; total time=   0.5s\n",
            "[CV] END max_depth=10, min_samples_leaf=1, min_samples_split=5, n_estimators=100; total time=   1.1s\n",
            "[CV] END max_depth=10, min_samples_leaf=1, min_samples_split=5, n_estimators=100; total time=   1.1s\n",
            "[CV] END max_depth=10, min_samples_leaf=1, min_samples_split=5, n_estimators=100; total time=   1.0s\n",
            "[CV] END max_depth=10, min_samples_leaf=3, min_samples_split=2, n_estimators=50; total time=   0.5s\n",
            "[CV] END max_depth=10, min_samples_leaf=3, min_samples_split=2, n_estimators=50; total time=   0.5s\n",
            "[CV] END max_depth=10, min_samples_leaf=3, min_samples_split=2, n_estimators=50; total time=   0.5s\n",
            "[CV] END max_depth=10, min_samples_leaf=3, min_samples_split=2, n_estimators=100; total time=   1.0s\n",
            "[CV] END max_depth=10, min_samples_leaf=3, min_samples_split=2, n_estimators=100; total time=   1.0s\n",
            "[CV] END max_depth=10, min_samples_leaf=3, min_samples_split=2, n_estimators=100; total time=   1.0s\n",
            "[CV] END max_depth=10, min_samples_leaf=3, min_samples_split=5, n_estimators=50; total time=   0.5s\n",
            "[CV] END max_depth=10, min_samples_leaf=3, min_samples_split=5, n_estimators=50; total time=   0.6s\n",
            "[CV] END max_depth=10, min_samples_leaf=3, min_samples_split=5, n_estimators=50; total time=   0.7s\n",
            "[CV] END max_depth=10, min_samples_leaf=3, min_samples_split=5, n_estimators=100; total time=   1.2s\n",
            "[CV] END max_depth=10, min_samples_leaf=3, min_samples_split=5, n_estimators=100; total time=   1.0s\n",
            "[CV] END max_depth=10, min_samples_leaf=3, min_samples_split=5, n_estimators=100; total time=   1.0s\n",
            "[CV] END max_depth=15, min_samples_leaf=1, min_samples_split=2, n_estimators=50; total time=   0.6s\n",
            "[CV] END max_depth=15, min_samples_leaf=1, min_samples_split=2, n_estimators=50; total time=   0.6s\n",
            "[CV] END max_depth=15, min_samples_leaf=1, min_samples_split=2, n_estimators=50; total time=   0.6s\n",
            "[CV] END max_depth=15, min_samples_leaf=1, min_samples_split=2, n_estimators=100; total time=   1.2s\n",
            "[CV] END max_depth=15, min_samples_leaf=1, min_samples_split=2, n_estimators=100; total time=   1.2s\n",
            "[CV] END max_depth=15, min_samples_leaf=1, min_samples_split=2, n_estimators=100; total time=   1.2s\n",
            "[CV] END max_depth=15, min_samples_leaf=1, min_samples_split=5, n_estimators=50; total time=   0.6s\n",
            "[CV] END max_depth=15, min_samples_leaf=1, min_samples_split=5, n_estimators=50; total time=   0.6s\n",
            "[CV] END max_depth=15, min_samples_leaf=1, min_samples_split=5, n_estimators=50; total time=   0.6s\n",
            "[CV] END max_depth=15, min_samples_leaf=1, min_samples_split=5, n_estimators=100; total time=   1.6s\n",
            "[CV] END max_depth=15, min_samples_leaf=1, min_samples_split=5, n_estimators=100; total time=   1.3s\n",
            "[CV] END max_depth=15, min_samples_leaf=1, min_samples_split=5, n_estimators=100; total time=   1.2s\n",
            "[CV] END max_depth=15, min_samples_leaf=3, min_samples_split=2, n_estimators=50; total time=   0.6s\n",
            "[CV] END max_depth=15, min_samples_leaf=3, min_samples_split=2, n_estimators=50; total time=   0.6s\n",
            "[CV] END max_depth=15, min_samples_leaf=3, min_samples_split=2, n_estimators=50; total time=   0.6s\n",
            "[CV] END max_depth=15, min_samples_leaf=3, min_samples_split=2, n_estimators=100; total time=   1.1s\n",
            "[CV] END max_depth=15, min_samples_leaf=3, min_samples_split=2, n_estimators=100; total time=   1.1s\n",
            "[CV] END max_depth=15, min_samples_leaf=3, min_samples_split=2, n_estimators=100; total time=   1.1s\n",
            "[CV] END max_depth=15, min_samples_leaf=3, min_samples_split=5, n_estimators=50; total time=   0.6s\n",
            "[CV] END max_depth=15, min_samples_leaf=3, min_samples_split=5, n_estimators=50; total time=   0.6s\n",
            "[CV] END max_depth=15, min_samples_leaf=3, min_samples_split=5, n_estimators=50; total time=   0.6s\n",
            "[CV] END max_depth=15, min_samples_leaf=3, min_samples_split=5, n_estimators=100; total time=   1.1s\n",
            "[CV] END max_depth=15, min_samples_leaf=3, min_samples_split=5, n_estimators=100; total time=   1.5s\n",
            "[CV] END max_depth=15, min_samples_leaf=3, min_samples_split=5, n_estimators=100; total time=   1.1s\n",
            "Best Params: {'max_depth': 15, 'min_samples_leaf': 1, 'min_samples_split': 5, 'n_estimators': 50}\n"
          ]
        }
      ],
      "source": [
        "from sklearn.model_selection import GridSearchCV\n",
        "\n",
        "param_grid = {\n",
        "    'n_estimators': [50, 100],\n",
        "    'max_depth': [5, 10, 15],\n",
        "    'min_samples_split': [2, 5],\n",
        "    'min_samples_leaf': [1, 3],\n",
        "}\n",
        "\n",
        "grid_search = GridSearchCV(\n",
        "    estimator=rf_adhd, param_grid=param_grid, cv=3, scoring='accuracy', verbose=2\n",
        ")\n",
        "grid_search.fit(X_train, y_train['ADHD_Outcome'])\n",
        "print(f\"Best Params: {grid_search.best_params_}\")\n"
      ]
    },
    {
      "cell_type": "code",
      "execution_count": null,
      "metadata": {
        "id": "suX0LHsHCL0U"
      },
      "outputs": [],
      "source": []
    }
  ],
  "metadata": {
    "colab": {
      "collapsed_sections": [
        "eQ9Nu0HaJF0c",
        "M3g9vUu0ISXM",
        "pQVqfrrbKLOZ",
        "hjOk6-WSwVwU"
      ],
      "provenance": []
    },
    "kernelspec": {
      "display_name": "base",
      "language": "python",
      "name": "python3"
    },
    "language_info": {
      "codemirror_mode": {
        "name": "ipython",
        "version": 3
      },
      "file_extension": ".py",
      "mimetype": "text/x-python",
      "name": "python",
      "nbconvert_exporter": "python",
      "pygments_lexer": "ipython3",
      "version": "3.12.2"
    }
  },
  "nbformat": 4,
  "nbformat_minor": 0
}
